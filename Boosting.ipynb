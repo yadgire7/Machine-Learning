{
  "cells": [
    {
      "cell_type": "markdown",
      "metadata": {
        "id": "view-in-github",
        "colab_type": "text"
      },
      "source": [
        "<a href=\"https://colab.research.google.com/github/yadgire7/Machine-Learning/blob/master/Boosting.ipynb\" target=\"_parent\"><img src=\"https://colab.research.google.com/assets/colab-badge.svg\" alt=\"Open In Colab\"/></a>"
      ]
    },
    {
      "cell_type": "markdown",
      "id": "0f6c9fe6",
      "metadata": {
        "id": "0f6c9fe6"
      },
      "source": [
        "Name: Saurabh Arun Yadgire USC ID: 8065527198 Github ID:yadgire7"
      ]
    },
    {
      "cell_type": "markdown",
      "id": "a7812ba6",
      "metadata": {
        "id": "a7812ba6"
      },
      "source": [
        "Resources:\n",
        "1. https://scikit-learn.org/stable/modules/tree.html\n",
        "2. https://scikit-learn.org/stable/auto_examples/tree/plot_cost_complexity_pruning.html\n",
        "3. https://archive.ics.uci.edu/ml/datasets/Communities+and+Crime (for refering to colun names for Q.2)\n",
        "4. https://stackoverflow.com/questions/18689823/pandas-dataframe-replace-nan-values-with-average-of-columns\n",
        "5. https://stackoverflow.com/questions/29432629/plot-correlation-matrix-using-pandas\n",
        "6. https://scikit-learn.org/stable/modules/generated/sklearn.linear_model.RidgeCV.html\n",
        "7. http://www.science.smith.edu/~jcrouser/SDS293/labs/lab10-py.html\n",
        "8. https://stats.stackexchange.com/questions/86434/is-standardisation-before-lasso-really-necessary\n",
        "9. https://scikit-learn.org/stable/modules/generated/sklearn.preprocessing.StandardScaler.html\n",
        "10. https://scikit-learn.org/stable/modules/generated/sklearn.decomposition.PCA.html\n",
        "11. https://scikit-learn.org/stable/modules/generated/sklearn.model_selection.KFold.html\n",
        "12. https://www.youtube.com/watch?v=0B5eIE_1vpU\n",
        "13. https://stackoverflow.com/questions/69429691/gridsearchcv-not-choosing-the-best-hyperparameters-for-xgboost\n"
      ]
    },
    {
      "cell_type": "markdown",
      "source": [
        "# Import Libraries"
      ],
      "metadata": {
        "id": "OfjogD84JQvE"
      },
      "id": "OfjogD84JQvE"
    },
    {
      "cell_type": "code",
      "execution_count": null,
      "id": "5ad31711",
      "metadata": {
        "id": "5ad31711"
      },
      "outputs": [],
      "source": [
        "import pandas as pd\n",
        "import numpy as np\n",
        "import matplotlib.pyplot as plt\n",
        "import seaborn as sbn\n",
        "from sklearn import tree\n",
        "from sklearn.model_selection import train_test_split, KFold, cross_val_score, GridSearchCV\n",
        "from sklearn import metrics\n",
        "from sklearn.preprocessing import StandardScaler\n",
        "from sklearn.decomposition import PCA\n",
        "import graphviz\n",
        "import csv\n",
        "from sklearn.linear_model import LinearRegression, RidgeCV, Ridge, LassoCV,Lasso\n",
        "import math\n",
        "from xgboost import XGBRegressor\n",
        "import warnings"
      ]
    },
    {
      "cell_type": "code",
      "execution_count": null,
      "id": "cc7db57d",
      "metadata": {
        "id": "cc7db57d",
        "outputId": "7eb35940-a122-4f18-a2ff-2aed73724e65"
      },
      "outputs": [
        {
          "name": "stdout",
          "output_type": "stream",
          "text": [
            "    Temperature Nausea Lumbar Urine Micturition Urethra Bladder Pelvis\n",
            "0          35,5     no    yes    no          no      no      no     no\n",
            "1          35,9     no     no   yes         yes     yes     yes     no\n",
            "2          35,9     no    yes    no          no      no      no     no\n",
            "3          36,0     no     no   yes         yes     yes     yes     no\n",
            "4          36,0     no    yes    no          no      no      no     no\n",
            "..          ...    ...    ...   ...         ...     ...     ...    ...\n",
            "115        41,4     no    yes   yes          no     yes      no    yes\n",
            "116        41,5     no     no    no          no      no      no     no\n",
            "117        41,5    yes    yes    no         yes      no      no    yes\n",
            "118        41,5     no    yes   yes          no     yes      no    yes\n",
            "119        41,5     no    yes   yes          no     yes      no    yes\n",
            "\n",
            "[120 rows x 8 columns]\n"
          ]
        }
      ],
      "source": [
        "data = pd.read_csv(r\"../Data/diagnosis.data\",encoding='utf-16', sep='\\t', names=['Temperature','Nausea','Lumbar','Urine','Micturition','Urethra','Bladder','Pelvis'])\n",
        "print(data)"
      ]
    },
    {
      "cell_type": "code",
      "execution_count": null,
      "id": "02015fa2",
      "metadata": {
        "id": "02015fa2",
        "outputId": "35e871c8-0d8b-40c9-cfd4-e88d02b19c5a"
      },
      "outputs": [
        {
          "name": "stdout",
          "output_type": "stream",
          "text": [
            "Index(['Temperature', 'Nausea', 'Lumbar', 'Urine', 'Micturition', 'Urethra',\n",
            "       'Bladder', 'Pelvis'],\n",
            "      dtype='object')\n"
          ]
        }
      ],
      "source": [
        "print(data.columns)"
      ]
    },
    {
      "cell_type": "code",
      "execution_count": null,
      "id": "590a08d1",
      "metadata": {
        "id": "590a08d1",
        "outputId": "c7123c09-adb2-44ec-bd24-a1dc553ae64d"
      },
      "outputs": [
        {
          "name": "stdout",
          "output_type": "stream",
          "text": [
            "     Temperature  Nausea  Lumbar  Urine  Micturition  Urethra  Bladder  Pelvis\n",
            "0           35.5       0       1      0            0        0        0       0\n",
            "1           35.9       0       0      1            1        1        1       0\n",
            "2           35.9       0       1      0            0        0        0       0\n",
            "3           36.0       0       0      1            1        1        1       0\n",
            "4           36.0       0       1      0            0        0        0       0\n",
            "..           ...     ...     ...    ...          ...      ...      ...     ...\n",
            "115         41.4       0       1      1            0        1        0       1\n",
            "116         41.5       0       0      0            0        0        0       0\n",
            "117         41.5       1       1      0            1        0        0       1\n",
            "118         41.5       0       1      1            0        1        0       1\n",
            "119         41.5       0       1      1            0        1        0       1\n",
            "\n",
            "[120 rows x 8 columns]\n"
          ]
        }
      ],
      "source": [
        "arr= data['Temperature'].to_numpy()\n",
        "temp_arr=[]\n",
        "for s in arr:\n",
        "    s=s.replace(\",\",\".\")\n",
        "    s=float(s)\n",
        "    temp_arr.append(s)\n",
        "data['Temperature']=temp_arr\n",
        "col = ['Nausea', 'Lumbar', 'Urine', 'Micturition', 'Urethra',\n",
        "       'Bladder', 'Pelvis']\n",
        "features=['Temperature', 'Nausea', 'Lumbar', 'Urine', 'Micturition', 'Urethra']\n",
        "classes=['Bladder', 'Pelvis']\n",
        "for c in col:\n",
        "    arr=data[c].to_numpy()\n",
        "    insert_arr=[]\n",
        "    for s in arr:\n",
        "        if s==\"no\":\n",
        "            insert_arr.append(0)\n",
        "        else:\n",
        "            insert_arr.append(1)\n",
        "    data[c]=insert_arr\n",
        "print(data)"
      ]
    },
    {
      "cell_type": "code",
      "execution_count": null,
      "id": "502e30f2",
      "metadata": {
        "id": "502e30f2",
        "outputId": "b6e69f3a-79cd-4a8a-dc9b-60501ffea8fb"
      },
      "outputs": [
        {
          "name": "stdout",
          "output_type": "stream",
          "text": [
            "Q.1.a\n",
            "\n"
          ]
        }
      ],
      "source": [
        "print(\"Q.1.a\\n\")\n",
        "x,y = data.iloc[:,:6],data.iloc[:,6:]\n",
        "x_train,x_test,y_train,y_test = train_test_split(x,y,random_state=0)\n",
        "# print(x)"
      ]
    },
    {
      "cell_type": "code",
      "execution_count": null,
      "id": "58c36cc3",
      "metadata": {
        "id": "58c36cc3"
      },
      "outputs": [],
      "source": [
        "# print(y)"
      ]
    },
    {
      "cell_type": "code",
      "execution_count": null,
      "id": "2e626981",
      "metadata": {
        "id": "2e626981",
        "outputId": "a735a7bd-e317-4058-8b21-d70db052ba8a"
      },
      "outputs": [
        {
          "name": "stdout",
          "output_type": "stream",
          "text": [
            "1.a.b\n",
            "\n"
          ]
        },
        {
          "data": {
            "image/svg+xml": [
              "<?xml version=\"1.0\" encoding=\"UTF-8\" standalone=\"no\"?>\n",
              "<!DOCTYPE svg PUBLIC \"-//W3C//DTD SVG 1.1//EN\"\n",
              " \"http://www.w3.org/Graphics/SVG/1.1/DTD/svg11.dtd\">\n",
              "<!-- Generated by graphviz version 2.50.0 (0)\n",
              " -->\n",
              "<!-- Title: Tree Pages: 1 -->\n",
              "<svg width=\"619pt\" height=\"552pt\"\n",
              " viewBox=\"0.00 0.00 619.00 552.00\" xmlns=\"http://www.w3.org/2000/svg\" xmlns:xlink=\"http://www.w3.org/1999/xlink\">\n",
              "<g id=\"graph0\" class=\"graph\" transform=\"scale(1 1) rotate(0) translate(4 548)\">\n",
              "<title>Tree</title>\n",
              "<polygon fill=\"white\" stroke=\"transparent\" points=\"-4,4 -4,-548 615,-548 615,4 -4,4\"/>\n",
              "<!-- 0 -->\n",
              "<g id=\"node1\" class=\"node\">\n",
              "<title>0</title>\n",
              "<path fill=\"#ffffff\" stroke=\"black\" d=\"M299,-544C299,-544 181,-544 181,-544 175,-544 169,-538 169,-532 169,-532 169,-473 169,-473 169,-467 175,-461 181,-461 181,-461 299,-461 299,-461 305,-461 311,-467 311,-473 311,-473 311,-532 311,-532 311,-538 305,-544 299,-544\"/>\n",
              "<text text-anchor=\"start\" x=\"177\" y=\"-528.8\" font-family=\"Helvetica,sans-Serif\" font-size=\"14.00\">Temperature ≤ 37.95</text>\n",
              "<text text-anchor=\"start\" x=\"204.5\" y=\"-513.8\" font-family=\"Helvetica,sans-Serif\" font-size=\"14.00\">gini = 0.493</text>\n",
              "<text text-anchor=\"start\" x=\"195\" y=\"-498.8\" font-family=\"Helvetica,sans-Serif\" font-size=\"14.00\">samples = 120</text>\n",
              "<text text-anchor=\"start\" x=\"191.5\" y=\"-483.8\" font-family=\"Helvetica,sans-Serif\" font-size=\"14.00\">value = [[61, 59]</text>\n",
              "<text text-anchor=\"start\" x=\"215.5\" y=\"-468.8\" font-family=\"Helvetica,sans-Serif\" font-size=\"14.00\">[70, 50]]</text>\n",
              "</g>\n",
              "<!-- 1 -->\n",
              "<g id=\"node2\" class=\"node\">\n",
              "<title>1</title>\n",
              "<path fill=\"#f1ba92\" stroke=\"black\" d=\"M219.5,-425C219.5,-425 130.5,-425 130.5,-425 124.5,-425 118.5,-419 118.5,-413 118.5,-413 118.5,-354 118.5,-354 118.5,-348 124.5,-342 130.5,-342 130.5,-342 219.5,-342 219.5,-342 225.5,-342 231.5,-348 231.5,-354 231.5,-354 231.5,-413 231.5,-413 231.5,-419 225.5,-425 219.5,-425\"/>\n",
              "<text text-anchor=\"start\" x=\"141.5\" y=\"-409.8\" font-family=\"Helvetica,sans-Serif\" font-size=\"14.00\">Urine ≤ 0.5</text>\n",
              "<text text-anchor=\"start\" x=\"139.5\" y=\"-394.8\" font-family=\"Helvetica,sans-Serif\" font-size=\"14.00\">gini = 0.222</text>\n",
              "<text text-anchor=\"start\" x=\"134\" y=\"-379.8\" font-family=\"Helvetica,sans-Serif\" font-size=\"14.00\">samples = 60</text>\n",
              "<text text-anchor=\"start\" x=\"126.5\" y=\"-364.8\" font-family=\"Helvetica,sans-Serif\" font-size=\"14.00\">value = [[20, 40]</text>\n",
              "<text text-anchor=\"start\" x=\"154\" y=\"-349.8\" font-family=\"Helvetica,sans-Serif\" font-size=\"14.00\">[60, 0]]</text>\n",
              "</g>\n",
              "<!-- 0&#45;&gt;1 -->\n",
              "<g id=\"edge1\" class=\"edge\">\n",
              "<title>0&#45;&gt;1</title>\n",
              "<path fill=\"none\" stroke=\"black\" d=\"M217.45,-460.91C212.61,-452.2 207.44,-442.9 202.44,-433.89\"/>\n",
              "<polygon fill=\"black\" stroke=\"black\" points=\"205.43,-432.06 197.51,-425.02 199.31,-435.46 205.43,-432.06\"/>\n",
              "<text text-anchor=\"middle\" x=\"190.64\" y=\"-445.36\" font-family=\"Helvetica,sans-Serif\" font-size=\"14.00\">True</text>\n",
              "</g>\n",
              "<!-- 4 -->\n",
              "<g id=\"node5\" class=\"node\">\n",
              "<title>4</title>\n",
              "<path fill=\"#f8dcc8\" stroke=\"black\" d=\"M350.5,-425C350.5,-425 261.5,-425 261.5,-425 255.5,-425 249.5,-419 249.5,-413 249.5,-413 249.5,-354 249.5,-354 249.5,-348 255.5,-342 261.5,-342 261.5,-342 350.5,-342 350.5,-342 356.5,-342 362.5,-348 362.5,-354 362.5,-354 362.5,-413 362.5,-413 362.5,-419 356.5,-425 350.5,-425\"/>\n",
              "<text text-anchor=\"start\" x=\"265.5\" y=\"-409.8\" font-family=\"Helvetica,sans-Serif\" font-size=\"14.00\">Lumbar ≤ 0.5</text>\n",
              "<text text-anchor=\"start\" x=\"270.5\" y=\"-394.8\" font-family=\"Helvetica,sans-Serif\" font-size=\"14.00\">gini = 0.355</text>\n",
              "<text text-anchor=\"start\" x=\"265\" y=\"-379.8\" font-family=\"Helvetica,sans-Serif\" font-size=\"14.00\">samples = 60</text>\n",
              "<text text-anchor=\"start\" x=\"257.5\" y=\"-364.8\" font-family=\"Helvetica,sans-Serif\" font-size=\"14.00\">value = [[41, 19]</text>\n",
              "<text text-anchor=\"start\" x=\"281.5\" y=\"-349.8\" font-family=\"Helvetica,sans-Serif\" font-size=\"14.00\">[10, 50]]</text>\n",
              "</g>\n",
              "<!-- 0&#45;&gt;4 -->\n",
              "<g id=\"edge4\" class=\"edge\">\n",
              "<title>0&#45;&gt;4</title>\n",
              "<path fill=\"none\" stroke=\"black\" d=\"M262.9,-460.91C267.81,-452.2 273.06,-442.9 278.14,-433.89\"/>\n",
              "<polygon fill=\"black\" stroke=\"black\" points=\"281.28,-435.45 283.14,-425.02 275.18,-432.01 281.28,-435.45\"/>\n",
              "<text text-anchor=\"middle\" x=\"289.85\" y=\"-445.4\" font-family=\"Helvetica,sans-Serif\" font-size=\"14.00\">False</text>\n",
              "</g>\n",
              "<!-- 2 -->\n",
              "<g id=\"node3\" class=\"node\">\n",
              "<title>2</title>\n",
              "<path fill=\"#e58139\" stroke=\"black\" d=\"M94,-298.5C94,-298.5 12,-298.5 12,-298.5 6,-298.5 0,-292.5 0,-286.5 0,-286.5 0,-242.5 0,-242.5 0,-236.5 6,-230.5 12,-230.5 12,-230.5 94,-230.5 94,-230.5 100,-230.5 106,-236.5 106,-242.5 106,-242.5 106,-286.5 106,-286.5 106,-292.5 100,-298.5 94,-298.5\"/>\n",
              "<text text-anchor=\"start\" x=\"25\" y=\"-283.3\" font-family=\"Helvetica,sans-Serif\" font-size=\"14.00\">gini = 0.0</text>\n",
              "<text text-anchor=\"start\" x=\"12\" y=\"-268.3\" font-family=\"Helvetica,sans-Serif\" font-size=\"14.00\">samples = 20</text>\n",
              "<text text-anchor=\"start\" x=\"8\" y=\"-253.3\" font-family=\"Helvetica,sans-Serif\" font-size=\"14.00\">value = [[20, 0]</text>\n",
              "<text text-anchor=\"start\" x=\"32\" y=\"-238.3\" font-family=\"Helvetica,sans-Serif\" font-size=\"14.00\">[20, 0]]</text>\n",
              "</g>\n",
              "<!-- 1&#45;&gt;2 -->\n",
              "<g id=\"edge2\" class=\"edge\">\n",
              "<title>1&#45;&gt;2</title>\n",
              "<path fill=\"none\" stroke=\"black\" d=\"M132.67,-341.91C120.48,-330.21 107.18,-317.46 95,-305.78\"/>\n",
              "<polygon fill=\"black\" stroke=\"black\" points=\"97.22,-303.06 87.58,-298.67 92.38,-308.11 97.22,-303.06\"/>\n",
              "</g>\n",
              "<!-- 3 -->\n",
              "<g id=\"node4\" class=\"node\">\n",
              "<title>3</title>\n",
              "<path fill=\"#e58139\" stroke=\"black\" d=\"M218,-298.5C218,-298.5 136,-298.5 136,-298.5 130,-298.5 124,-292.5 124,-286.5 124,-286.5 124,-242.5 124,-242.5 124,-236.5 130,-230.5 136,-230.5 136,-230.5 218,-230.5 218,-230.5 224,-230.5 230,-236.5 230,-242.5 230,-242.5 230,-286.5 230,-286.5 230,-292.5 224,-298.5 218,-298.5\"/>\n",
              "<text text-anchor=\"start\" x=\"149\" y=\"-283.3\" font-family=\"Helvetica,sans-Serif\" font-size=\"14.00\">gini = 0.0</text>\n",
              "<text text-anchor=\"start\" x=\"136\" y=\"-268.3\" font-family=\"Helvetica,sans-Serif\" font-size=\"14.00\">samples = 40</text>\n",
              "<text text-anchor=\"start\" x=\"132\" y=\"-253.3\" font-family=\"Helvetica,sans-Serif\" font-size=\"14.00\">value = [[0, 40]</text>\n",
              "<text text-anchor=\"start\" x=\"156\" y=\"-238.3\" font-family=\"Helvetica,sans-Serif\" font-size=\"14.00\">[40, 0]]</text>\n",
              "</g>\n",
              "<!-- 1&#45;&gt;3 -->\n",
              "<g id=\"edge3\" class=\"edge\">\n",
              "<title>1&#45;&gt;3</title>\n",
              "<path fill=\"none\" stroke=\"black\" d=\"M175.69,-341.91C175.88,-331.2 176.07,-319.62 176.26,-308.78\"/>\n",
              "<polygon fill=\"black\" stroke=\"black\" points=\"179.76,-308.73 176.43,-298.67 172.76,-308.61 179.76,-308.73\"/>\n",
              "</g>\n",
              "<!-- 5 -->\n",
              "<g id=\"node6\" class=\"node\">\n",
              "<title>5</title>\n",
              "<path fill=\"#e58139\" stroke=\"black\" d=\"M345,-298.5C345,-298.5 263,-298.5 263,-298.5 257,-298.5 251,-292.5 251,-286.5 251,-286.5 251,-242.5 251,-242.5 251,-236.5 257,-230.5 263,-230.5 263,-230.5 345,-230.5 345,-230.5 351,-230.5 357,-236.5 357,-242.5 357,-242.5 357,-286.5 357,-286.5 357,-292.5 351,-298.5 345,-298.5\"/>\n",
              "<text text-anchor=\"start\" x=\"276\" y=\"-283.3\" font-family=\"Helvetica,sans-Serif\" font-size=\"14.00\">gini = 0.0</text>\n",
              "<text text-anchor=\"start\" x=\"263\" y=\"-268.3\" font-family=\"Helvetica,sans-Serif\" font-size=\"14.00\">samples = 10</text>\n",
              "<text text-anchor=\"start\" x=\"259\" y=\"-253.3\" font-family=\"Helvetica,sans-Serif\" font-size=\"14.00\">value = [[10, 0]</text>\n",
              "<text text-anchor=\"start\" x=\"283\" y=\"-238.3\" font-family=\"Helvetica,sans-Serif\" font-size=\"14.00\">[10, 0]]</text>\n",
              "</g>\n",
              "<!-- 4&#45;&gt;5 -->\n",
              "<g id=\"edge5\" class=\"edge\">\n",
              "<title>4&#45;&gt;5</title>\n",
              "<path fill=\"none\" stroke=\"black\" d=\"M305.31,-341.91C305.12,-331.2 304.93,-319.62 304.74,-308.78\"/>\n",
              "<polygon fill=\"black\" stroke=\"black\" points=\"308.24,-308.61 304.57,-298.67 301.24,-308.73 308.24,-308.61\"/>\n",
              "</g>\n",
              "<!-- 6 -->\n",
              "<g id=\"node7\" class=\"node\">\n",
              "<title>6</title>\n",
              "<path fill=\"#f1bd98\" stroke=\"black\" d=\"M476.5,-306C476.5,-306 387.5,-306 387.5,-306 381.5,-306 375.5,-300 375.5,-294 375.5,-294 375.5,-235 375.5,-235 375.5,-229 381.5,-223 387.5,-223 387.5,-223 476.5,-223 476.5,-223 482.5,-223 488.5,-229 488.5,-235 488.5,-235 488.5,-294 488.5,-294 488.5,-300 482.5,-306 476.5,-306\"/>\n",
              "<text text-anchor=\"start\" x=\"383.5\" y=\"-290.8\" font-family=\"Helvetica,sans-Serif\" font-size=\"14.00\">Micturition ≤ 0.5</text>\n",
              "<text text-anchor=\"start\" x=\"396.5\" y=\"-275.8\" font-family=\"Helvetica,sans-Serif\" font-size=\"14.00\">gini = 0.236</text>\n",
              "<text text-anchor=\"start\" x=\"391\" y=\"-260.8\" font-family=\"Helvetica,sans-Serif\" font-size=\"14.00\">samples = 50</text>\n",
              "<text text-anchor=\"start\" x=\"383.5\" y=\"-245.8\" font-family=\"Helvetica,sans-Serif\" font-size=\"14.00\">value = [[31, 19]</text>\n",
              "<text text-anchor=\"start\" x=\"411\" y=\"-230.8\" font-family=\"Helvetica,sans-Serif\" font-size=\"14.00\">[0, 50]]</text>\n",
              "</g>\n",
              "<!-- 4&#45;&gt;6 -->\n",
              "<g id=\"edge6\" class=\"edge\">\n",
              "<title>4&#45;&gt;6</title>\n",
              "<path fill=\"none\" stroke=\"black\" d=\"M349.72,-341.91C359.78,-332.56 370.57,-322.54 380.92,-312.93\"/>\n",
              "<polygon fill=\"black\" stroke=\"black\" points=\"383.42,-315.39 388.36,-306.02 378.65,-310.26 383.42,-315.39\"/>\n",
              "</g>\n",
              "<!-- 7 -->\n",
              "<g id=\"node8\" class=\"node\">\n",
              "<title>7</title>\n",
              "<path fill=\"#e58139\" stroke=\"black\" d=\"M409,-179.5C409,-179.5 327,-179.5 327,-179.5 321,-179.5 315,-173.5 315,-167.5 315,-167.5 315,-123.5 315,-123.5 315,-117.5 321,-111.5 327,-111.5 327,-111.5 409,-111.5 409,-111.5 415,-111.5 421,-117.5 421,-123.5 421,-123.5 421,-167.5 421,-167.5 421,-173.5 415,-179.5 409,-179.5\"/>\n",
              "<text text-anchor=\"start\" x=\"340\" y=\"-164.3\" font-family=\"Helvetica,sans-Serif\" font-size=\"14.00\">gini = 0.0</text>\n",
              "<text text-anchor=\"start\" x=\"327\" y=\"-149.3\" font-family=\"Helvetica,sans-Serif\" font-size=\"14.00\">samples = 21</text>\n",
              "<text text-anchor=\"start\" x=\"323\" y=\"-134.3\" font-family=\"Helvetica,sans-Serif\" font-size=\"14.00\">value = [[21, 0]</text>\n",
              "<text text-anchor=\"start\" x=\"347\" y=\"-119.3\" font-family=\"Helvetica,sans-Serif\" font-size=\"14.00\">[0, 21]]</text>\n",
              "</g>\n",
              "<!-- 6&#45;&gt;7 -->\n",
              "<g id=\"edge7\" class=\"edge\">\n",
              "<title>6&#45;&gt;7</title>\n",
              "<path fill=\"none\" stroke=\"black\" d=\"M409.8,-222.91C403.76,-211.87 397.21,-199.9 391.12,-188.77\"/>\n",
              "<polygon fill=\"black\" stroke=\"black\" points=\"394.01,-186.76 386.14,-179.67 387.87,-190.12 394.01,-186.76\"/>\n",
              "</g>\n",
              "<!-- 8 -->\n",
              "<g id=\"node9\" class=\"node\">\n",
              "<title>8</title>\n",
              "<path fill=\"#f1bb94\" stroke=\"black\" d=\"M540.5,-187C540.5,-187 451.5,-187 451.5,-187 445.5,-187 439.5,-181 439.5,-175 439.5,-175 439.5,-116 439.5,-116 439.5,-110 445.5,-104 451.5,-104 451.5,-104 540.5,-104 540.5,-104 546.5,-104 552.5,-110 552.5,-116 552.5,-116 552.5,-175 552.5,-175 552.5,-181 546.5,-187 540.5,-187\"/>\n",
              "<text text-anchor=\"start\" x=\"462.5\" y=\"-171.8\" font-family=\"Helvetica,sans-Serif\" font-size=\"14.00\">Urine ≤ 0.5</text>\n",
              "<text text-anchor=\"start\" x=\"460.5\" y=\"-156.8\" font-family=\"Helvetica,sans-Serif\" font-size=\"14.00\">gini = 0.226</text>\n",
              "<text text-anchor=\"start\" x=\"455\" y=\"-141.8\" font-family=\"Helvetica,sans-Serif\" font-size=\"14.00\">samples = 29</text>\n",
              "<text text-anchor=\"start\" x=\"447.5\" y=\"-126.8\" font-family=\"Helvetica,sans-Serif\" font-size=\"14.00\">value = [[10, 19]</text>\n",
              "<text text-anchor=\"start\" x=\"475\" y=\"-111.8\" font-family=\"Helvetica,sans-Serif\" font-size=\"14.00\">[0, 29]]</text>\n",
              "</g>\n",
              "<!-- 6&#45;&gt;8 -->\n",
              "<g id=\"edge8\" class=\"edge\">\n",
              "<title>6&#45;&gt;8</title>\n",
              "<path fill=\"none\" stroke=\"black\" d=\"M454.2,-222.91C458.97,-214.2 464.06,-204.9 468.98,-195.89\"/>\n",
              "<polygon fill=\"black\" stroke=\"black\" points=\"472.11,-197.47 473.83,-187.02 465.97,-194.11 472.11,-197.47\"/>\n",
              "</g>\n",
              "<!-- 9 -->\n",
              "<g id=\"node10\" class=\"node\">\n",
              "<title>9</title>\n",
              "<path fill=\"#e58139\" stroke=\"black\" d=\"M475,-68C475,-68 393,-68 393,-68 387,-68 381,-62 381,-56 381,-56 381,-12 381,-12 381,-6 387,0 393,0 393,0 475,0 475,0 481,0 487,-6 487,-12 487,-12 487,-56 487,-56 487,-62 481,-68 475,-68\"/>\n",
              "<text text-anchor=\"start\" x=\"406\" y=\"-52.8\" font-family=\"Helvetica,sans-Serif\" font-size=\"14.00\">gini = 0.0</text>\n",
              "<text text-anchor=\"start\" x=\"393\" y=\"-37.8\" font-family=\"Helvetica,sans-Serif\" font-size=\"14.00\">samples = 10</text>\n",
              "<text text-anchor=\"start\" x=\"389\" y=\"-22.8\" font-family=\"Helvetica,sans-Serif\" font-size=\"14.00\">value = [[10, 0]</text>\n",
              "<text text-anchor=\"start\" x=\"413\" y=\"-7.8\" font-family=\"Helvetica,sans-Serif\" font-size=\"14.00\">[0, 10]]</text>\n",
              "</g>\n",
              "<!-- 8&#45;&gt;9 -->\n",
              "<g id=\"edge9\" class=\"edge\">\n",
              "<title>8&#45;&gt;9</title>\n",
              "<path fill=\"none\" stroke=\"black\" d=\"M472.91,-103.73C468.01,-95.06 462.82,-85.9 457.88,-77.18\"/>\n",
              "<polygon fill=\"black\" stroke=\"black\" points=\"460.83,-75.28 452.85,-68.3 454.74,-78.73 460.83,-75.28\"/>\n",
              "</g>\n",
              "<!-- 10 -->\n",
              "<g id=\"node11\" class=\"node\">\n",
              "<title>10</title>\n",
              "<path fill=\"#e58139\" stroke=\"black\" d=\"M599,-68C599,-68 517,-68 517,-68 511,-68 505,-62 505,-56 505,-56 505,-12 505,-12 505,-6 511,0 517,0 517,0 599,0 599,0 605,0 611,-6 611,-12 611,-12 611,-56 611,-56 611,-62 605,-68 599,-68\"/>\n",
              "<text text-anchor=\"start\" x=\"530\" y=\"-52.8\" font-family=\"Helvetica,sans-Serif\" font-size=\"14.00\">gini = 0.0</text>\n",
              "<text text-anchor=\"start\" x=\"517\" y=\"-37.8\" font-family=\"Helvetica,sans-Serif\" font-size=\"14.00\">samples = 19</text>\n",
              "<text text-anchor=\"start\" x=\"513\" y=\"-22.8\" font-family=\"Helvetica,sans-Serif\" font-size=\"14.00\">value = [[0, 19]</text>\n",
              "<text text-anchor=\"start\" x=\"537\" y=\"-7.8\" font-family=\"Helvetica,sans-Serif\" font-size=\"14.00\">[0, 19]]</text>\n",
              "</g>\n",
              "<!-- 8&#45;&gt;10 -->\n",
              "<g id=\"edge10\" class=\"edge\">\n",
              "<title>8&#45;&gt;10</title>\n",
              "<path fill=\"none\" stroke=\"black\" d=\"M519.09,-103.73C523.99,-95.06 529.18,-85.9 534.12,-77.18\"/>\n",
              "<polygon fill=\"black\" stroke=\"black\" points=\"537.26,-78.73 539.15,-68.3 531.17,-75.28 537.26,-78.73\"/>\n",
              "</g>\n",
              "</g>\n",
              "</svg>\n"
            ],
            "text/plain": [
              "<graphviz.sources.Source at 0x21be74965b0>"
            ]
          },
          "execution_count": 8,
          "metadata": {},
          "output_type": "execute_result"
        }
      ],
      "source": [
        "print('1.a.b\\n')\n",
        "clf = tree.DecisionTreeClassifier()\n",
        "clf.fit(x,y)\n",
        "dot_data = tree.export_graphviz(clf, out_file=None,feature_names=features,class_names=classes, filled=True, rounded=True,special_characters=True)\n",
        "graph = graphviz.Source(dot_data)\n",
        "graph"
      ]
    },
    {
      "cell_type": "code",
      "execution_count": null,
      "id": "342460d7",
      "metadata": {
        "id": "342460d7",
        "outputId": "5e7be92c-550d-4a5e-d29a-63ce0305d01d"
      },
      "outputs": [
        {
          "name": "stdout",
          "output_type": "stream",
          "text": [
            "1.a.c\n",
            "\n",
            "|--- feature_0 <= 37.95\n",
            "|   |--- feature_3 <= 0.50\n",
            "|   |   |--- class: 0\n",
            "|   |--- feature_3 >  0.50\n",
            "|   |   |--- class: 1\n",
            "|--- feature_0 >  37.95\n",
            "|   |--- feature_2 <= 0.50\n",
            "|   |   |--- class: 0\n",
            "|   |--- feature_2 >  0.50\n",
            "|   |   |--- feature_4 <= 0.50\n",
            "|   |   |   |--- class: 0\n",
            "|   |   |--- feature_4 >  0.50\n",
            "|   |   |   |--- feature_3 <= 0.50\n",
            "|   |   |   |   |--- class: 0\n",
            "|   |   |   |--- feature_3 >  0.50\n",
            "|   |   |   |   |--- class: 0\n",
            "\n"
          ]
        }
      ],
      "source": [
        "print('1.a.c\\n')\n",
        "text_rep = tree.export_text(clf)\n",
        "print(text_rep)"
      ]
    },
    {
      "cell_type": "markdown",
      "source": [
        "# Plots"
      ],
      "metadata": {
        "id": "x9zxw_tqJcOI"
      },
      "id": "x9zxw_tqJcOI"
    },
    {
      "cell_type": "code",
      "execution_count": null,
      "id": "cd093127",
      "metadata": {
        "id": "cd093127",
        "outputId": "6d0ca97b-17d0-4a9a-9d2f-098ebfd98350"
      },
      "outputs": [
        {
          "name": "stdout",
          "output_type": "stream",
          "text": [
            "Q.1.d\n",
            "\n",
            "alpha:0.0\tscore:1.0\tno_of_nodes: 11\tdepth: 4\n",
            "\n",
            "alpha:0.04908333333333333\tscore:1.0\tno_of_nodes: 11\tdepth: 4\n",
            "\n",
            "alpha:0.07947222222222226\tscore:0.7444444444444445\tno_of_nodes: 5\tdepth: 2\n",
            "\n",
            "alpha:0.1111111111111111\tscore:0.7444444444444445\tno_of_nodes: 5\tdepth: 2\n",
            "\n",
            "alpha:0.204236111111111\tscore:0.25555555555555554\tno_of_nodes: 1\tdepth: 0\n",
            "\n"
          ]
        },
        {
          "data": {
            "image/png": "[encoded data removed]",
            "text/plain": [
              "<Figure size 432x288 with 1 Axes>"
            ]
          },
          "metadata": {
            "needs_background": "light"
          },
          "output_type": "display_data"
        }
      ],
      "source": [
        "print('Q.1.d\\n')\n",
        "path = clf.cost_complexity_pruning_path(x,y)\n",
        "ccp_alphas, impurities = path.ccp_alphas, path.impurities\n",
        "# As alpha increases, more of the tree is pruned,\n",
        "# which increases the total impurity of its leaves and decreases the depth of the tree\n",
        "clfs = []\n",
        "node_counts=[]\n",
        "depth=[]\n",
        "train_scores=[]\n",
        "test_scores=[]\n",
        "\n",
        "for ccp_alpha in ccp_alphas:\n",
        "    clf = tree.DecisionTreeClassifier(random_state=0, ccp_alpha=ccp_alpha)\n",
        "    clf.fit(x_train,y_train)\n",
        "    clfs.append(clf)\n",
        "    node_counts.append(clf.tree_.node_count)\n",
        "    depth.append(clf.tree_.max_depth)\n",
        "    train_scores.append(clf.score(x_train, y_train))\n",
        "    test_scores.append(clf.score(x_test, y_test))\n",
        "    print(f'alpha:{ccp_alpha}\\tscore:{clf.score(x_train,y_train)}\\tno_of_nodes: {clf.tree_.node_count}\\tdepth: {clf.tree_.max_depth}\\n')\n",
        "# do we need to exclude the last alpha value\n",
        "# and corres. decision tree as it has only one node.\n",
        "\n",
        "fig, ax = plt.subplots()\n",
        "ax.set_xlabel(\"alpha\")\n",
        "ax.set_ylabel(\"accuracy\")\n",
        "ax.set_title(\"Accuracy vs alpha for training and testing sets\")\n",
        "ax.plot(ccp_alphas, train_scores, marker=\"o\", label=\"train\", drawstyle=\"steps-post\")\n",
        "ax.plot(ccp_alphas, test_scores, marker=\"o\", label=\"test\", drawstyle=\"steps-post\")\n",
        "ax.legend()\n",
        "plt.show()\n",
        "\n"
      ]
    },
    {
      "cell_type": "markdown",
      "id": "b2dcd212",
      "metadata": {
        "id": "b2dcd212"
      },
      "source": [
        "Neglecting aplha = 0 , as it is an ideal condition.\n",
        "Best alpha:0.04908333333333333, as it has gives the best accuracy."
      ]
    },
    {
      "cell_type": "code",
      "execution_count": null,
      "id": "425153cb",
      "metadata": {
        "id": "425153cb",
        "outputId": "b11d76b4-41e9-428b-afa5-4693aa3e9d28"
      },
      "outputs": [
        {
          "data": {
            "image/svg+xml": [
              "<?xml version=\"1.0\" encoding=\"UTF-8\" standalone=\"no\"?>\n",
              "<!DOCTYPE svg PUBLIC \"-//W3C//DTD SVG 1.1//EN\"\n",
              " \"http://www.w3.org/Graphics/SVG/1.1/DTD/svg11.dtd\">\n",
              "<!-- Generated by graphviz version 2.50.0 (0)\n",
              " -->\n",
              "<!-- Title: Tree Pages: 1 -->\n",
              "<svg width=\"609pt\" height=\"552pt\"\n",
              " viewBox=\"0.00 0.00 609.00 552.00\" xmlns=\"http://www.w3.org/2000/svg\" xmlns:xlink=\"http://www.w3.org/1999/xlink\">\n",
              "<g id=\"graph0\" class=\"graph\" transform=\"scale(1 1) rotate(0) translate(4 548)\">\n",
              "<title>Tree</title>\n",
              "<polygon fill=\"white\" stroke=\"transparent\" points=\"-4,4 -4,-548 605,-548 605,4 -4,4\"/>\n",
              "<!-- 0 -->\n",
              "<g id=\"node1\" class=\"node\">\n",
              "<title>0</title>\n",
              "<path fill=\"#ffffff\" stroke=\"black\" d=\"M298,-544C298,-544 180,-544 180,-544 174,-544 168,-538 168,-532 168,-532 168,-473 168,-473 168,-467 174,-461 180,-461 180,-461 298,-461 298,-461 304,-461 310,-467 310,-473 310,-473 310,-532 310,-532 310,-538 304,-544 298,-544\"/>\n",
              "<text text-anchor=\"start\" x=\"176\" y=\"-528.8\" font-family=\"Helvetica,sans-Serif\" font-size=\"14.00\">Temperature ≤ 37.95</text>\n",
              "<text text-anchor=\"start\" x=\"203.5\" y=\"-513.8\" font-family=\"Helvetica,sans-Serif\" font-size=\"14.00\">gini = 0.496</text>\n",
              "<text text-anchor=\"start\" x=\"198\" y=\"-498.8\" font-family=\"Helvetica,sans-Serif\" font-size=\"14.00\">samples = 90</text>\n",
              "<text text-anchor=\"start\" x=\"190.5\" y=\"-483.8\" font-family=\"Helvetica,sans-Serif\" font-size=\"14.00\">value = [[47, 43]</text>\n",
              "<text text-anchor=\"start\" x=\"214.5\" y=\"-468.8\" font-family=\"Helvetica,sans-Serif\" font-size=\"14.00\">[50, 40]]</text>\n",
              "</g>\n",
              "<!-- 1 -->\n",
              "<g id=\"node2\" class=\"node\">\n",
              "<title>1</title>\n",
              "<path fill=\"#f1bc96\" stroke=\"black\" d=\"M218.5,-425C218.5,-425 129.5,-425 129.5,-425 123.5,-425 117.5,-419 117.5,-413 117.5,-413 117.5,-354 117.5,-354 117.5,-348 123.5,-342 129.5,-342 129.5,-342 218.5,-342 218.5,-342 224.5,-342 230.5,-348 230.5,-354 230.5,-354 230.5,-413 230.5,-413 230.5,-419 224.5,-425 218.5,-425\"/>\n",
              "<text text-anchor=\"start\" x=\"140.5\" y=\"-409.8\" font-family=\"Helvetica,sans-Serif\" font-size=\"14.00\">Urine ≤ 0.5</text>\n",
              "<text text-anchor=\"start\" x=\"138.5\" y=\"-394.8\" font-family=\"Helvetica,sans-Serif\" font-size=\"14.00\">gini = 0.234</text>\n",
              "<text text-anchor=\"start\" x=\"133\" y=\"-379.8\" font-family=\"Helvetica,sans-Serif\" font-size=\"14.00\">samples = 43</text>\n",
              "<text text-anchor=\"start\" x=\"125.5\" y=\"-364.8\" font-family=\"Helvetica,sans-Serif\" font-size=\"14.00\">value = [[16, 27]</text>\n",
              "<text text-anchor=\"start\" x=\"153\" y=\"-349.8\" font-family=\"Helvetica,sans-Serif\" font-size=\"14.00\">[43, 0]]</text>\n",
              "</g>\n",
              "<!-- 0&#45;&gt;1 -->\n",
              "<g id=\"edge1\" class=\"edge\">\n",
              "<title>0&#45;&gt;1</title>\n",
              "<path fill=\"none\" stroke=\"black\" d=\"M216.45,-460.91C211.61,-452.2 206.44,-442.9 201.44,-433.89\"/>\n",
              "<polygon fill=\"black\" stroke=\"black\" points=\"204.43,-432.06 196.51,-425.02 198.31,-435.46 204.43,-432.06\"/>\n",
              "<text text-anchor=\"middle\" x=\"189.64\" y=\"-445.36\" font-family=\"Helvetica,sans-Serif\" font-size=\"14.00\">True</text>\n",
              "</g>\n",
              "<!-- 4 -->\n",
              "<g id=\"node5\" class=\"node\">\n",
              "<title>4</title>\n",
              "<path fill=\"#f7dac5\" stroke=\"black\" d=\"M349.5,-425C349.5,-425 260.5,-425 260.5,-425 254.5,-425 248.5,-419 248.5,-413 248.5,-413 248.5,-354 248.5,-354 248.5,-348 254.5,-342 260.5,-342 260.5,-342 349.5,-342 349.5,-342 355.5,-342 361.5,-348 361.5,-354 361.5,-354 361.5,-413 361.5,-413 361.5,-419 355.5,-425 349.5,-425\"/>\n",
              "<text text-anchor=\"start\" x=\"264.5\" y=\"-409.8\" font-family=\"Helvetica,sans-Serif\" font-size=\"14.00\">Lumbar ≤ 0.5</text>\n",
              "<text text-anchor=\"start\" x=\"269.5\" y=\"-394.8\" font-family=\"Helvetica,sans-Serif\" font-size=\"14.00\">gini = 0.351</text>\n",
              "<text text-anchor=\"start\" x=\"264\" y=\"-379.8\" font-family=\"Helvetica,sans-Serif\" font-size=\"14.00\">samples = 47</text>\n",
              "<text text-anchor=\"start\" x=\"256.5\" y=\"-364.8\" font-family=\"Helvetica,sans-Serif\" font-size=\"14.00\">value = [[31, 16]</text>\n",
              "<text text-anchor=\"start\" x=\"284\" y=\"-349.8\" font-family=\"Helvetica,sans-Serif\" font-size=\"14.00\">[7, 40]]</text>\n",
              "</g>\n",
              "<!-- 0&#45;&gt;4 -->\n",
              "<g id=\"edge4\" class=\"edge\">\n",
              "<title>0&#45;&gt;4</title>\n",
              "<path fill=\"none\" stroke=\"black\" d=\"M261.9,-460.91C266.81,-452.2 272.06,-442.9 277.14,-433.89\"/>\n",
              "<polygon fill=\"black\" stroke=\"black\" points=\"280.28,-435.45 282.14,-425.02 274.18,-432.01 280.28,-435.45\"/>\n",
              "<text text-anchor=\"middle\" x=\"288.85\" y=\"-445.4\" font-family=\"Helvetica,sans-Serif\" font-size=\"14.00\">False</text>\n",
              "</g>\n",
              "<!-- 2 -->\n",
              "<g id=\"node3\" class=\"node\">\n",
              "<title>2</title>\n",
              "<path fill=\"#e58139\" stroke=\"black\" d=\"M94,-298.5C94,-298.5 12,-298.5 12,-298.5 6,-298.5 0,-292.5 0,-286.5 0,-286.5 0,-242.5 0,-242.5 0,-236.5 6,-230.5 12,-230.5 12,-230.5 94,-230.5 94,-230.5 100,-230.5 106,-236.5 106,-242.5 106,-242.5 106,-286.5 106,-286.5 106,-292.5 100,-298.5 94,-298.5\"/>\n",
              "<text text-anchor=\"start\" x=\"25\" y=\"-283.3\" font-family=\"Helvetica,sans-Serif\" font-size=\"14.00\">gini = 0.0</text>\n",
              "<text text-anchor=\"start\" x=\"12\" y=\"-268.3\" font-family=\"Helvetica,sans-Serif\" font-size=\"14.00\">samples = 16</text>\n",
              "<text text-anchor=\"start\" x=\"8\" y=\"-253.3\" font-family=\"Helvetica,sans-Serif\" font-size=\"14.00\">value = [[16, 0]</text>\n",
              "<text text-anchor=\"start\" x=\"32\" y=\"-238.3\" font-family=\"Helvetica,sans-Serif\" font-size=\"14.00\">[16, 0]]</text>\n",
              "</g>\n",
              "<!-- 1&#45;&gt;2 -->\n",
              "<g id=\"edge2\" class=\"edge\">\n",
              "<title>1&#45;&gt;2</title>\n",
              "<path fill=\"none\" stroke=\"black\" d=\"M132.02,-341.91C119.92,-330.21 106.73,-317.46 94.66,-305.78\"/>\n",
              "<polygon fill=\"black\" stroke=\"black\" points=\"96.92,-303.1 87.3,-298.67 92.06,-308.13 96.92,-303.1\"/>\n",
              "</g>\n",
              "<!-- 3 -->\n",
              "<g id=\"node4\" class=\"node\">\n",
              "<title>3</title>\n",
              "<path fill=\"#e58139\" stroke=\"black\" d=\"M218,-298.5C218,-298.5 136,-298.5 136,-298.5 130,-298.5 124,-292.5 124,-286.5 124,-286.5 124,-242.5 124,-242.5 124,-236.5 130,-230.5 136,-230.5 136,-230.5 218,-230.5 218,-230.5 224,-230.5 230,-236.5 230,-242.5 230,-242.5 230,-286.5 230,-286.5 230,-292.5 224,-298.5 218,-298.5\"/>\n",
              "<text text-anchor=\"start\" x=\"149\" y=\"-283.3\" font-family=\"Helvetica,sans-Serif\" font-size=\"14.00\">gini = 0.0</text>\n",
              "<text text-anchor=\"start\" x=\"136\" y=\"-268.3\" font-family=\"Helvetica,sans-Serif\" font-size=\"14.00\">samples = 27</text>\n",
              "<text text-anchor=\"start\" x=\"132\" y=\"-253.3\" font-family=\"Helvetica,sans-Serif\" font-size=\"14.00\">value = [[0, 27]</text>\n",
              "<text text-anchor=\"start\" x=\"156\" y=\"-238.3\" font-family=\"Helvetica,sans-Serif\" font-size=\"14.00\">[27, 0]]</text>\n",
              "</g>\n",
              "<!-- 1&#45;&gt;3 -->\n",
              "<g id=\"edge3\" class=\"edge\">\n",
              "<title>1&#45;&gt;3</title>\n",
              "<path fill=\"none\" stroke=\"black\" d=\"M175.04,-341.91C175.32,-331.2 175.61,-319.62 175.89,-308.78\"/>\n",
              "<polygon fill=\"black\" stroke=\"black\" points=\"179.39,-308.75 176.15,-298.67 172.39,-308.57 179.39,-308.75\"/>\n",
              "</g>\n",
              "<!-- 5 -->\n",
              "<g id=\"node6\" class=\"node\">\n",
              "<title>5</title>\n",
              "<path fill=\"#e58139\" stroke=\"black\" d=\"M339,-298.5C339,-298.5 265,-298.5 265,-298.5 259,-298.5 253,-292.5 253,-286.5 253,-286.5 253,-242.5 253,-242.5 253,-236.5 259,-230.5 265,-230.5 265,-230.5 339,-230.5 339,-230.5 345,-230.5 351,-236.5 351,-242.5 351,-242.5 351,-286.5 351,-286.5 351,-292.5 345,-298.5 339,-298.5\"/>\n",
              "<text text-anchor=\"start\" x=\"274\" y=\"-283.3\" font-family=\"Helvetica,sans-Serif\" font-size=\"14.00\">gini = 0.0</text>\n",
              "<text text-anchor=\"start\" x=\"264.5\" y=\"-268.3\" font-family=\"Helvetica,sans-Serif\" font-size=\"14.00\">samples = 7</text>\n",
              "<text text-anchor=\"start\" x=\"261\" y=\"-253.3\" font-family=\"Helvetica,sans-Serif\" font-size=\"14.00\">value = [[7, 0]</text>\n",
              "<text text-anchor=\"start\" x=\"285\" y=\"-238.3\" font-family=\"Helvetica,sans-Serif\" font-size=\"14.00\">[7, 0]]</text>\n",
              "</g>\n",
              "<!-- 4&#45;&gt;5 -->\n",
              "<g id=\"edge5\" class=\"edge\">\n",
              "<title>4&#45;&gt;5</title>\n",
              "<path fill=\"none\" stroke=\"black\" d=\"M303.96,-341.91C303.68,-331.2 303.39,-319.62 303.11,-308.78\"/>\n",
              "<polygon fill=\"black\" stroke=\"black\" points=\"306.61,-308.57 302.85,-298.67 299.61,-308.75 306.61,-308.57\"/>\n",
              "</g>\n",
              "<!-- 6 -->\n",
              "<g id=\"node7\" class=\"node\">\n",
              "<title>6</title>\n",
              "<path fill=\"#f2be99\" stroke=\"black\" d=\"M470.5,-306C470.5,-306 381.5,-306 381.5,-306 375.5,-306 369.5,-300 369.5,-294 369.5,-294 369.5,-235 369.5,-235 369.5,-229 375.5,-223 381.5,-223 381.5,-223 470.5,-223 470.5,-223 476.5,-223 482.5,-229 482.5,-235 482.5,-235 482.5,-294 482.5,-294 482.5,-300 476.5,-306 470.5,-306\"/>\n",
              "<text text-anchor=\"start\" x=\"377.5\" y=\"-290.8\" font-family=\"Helvetica,sans-Serif\" font-size=\"14.00\">Micturition ≤ 0.5</text>\n",
              "<text text-anchor=\"start\" x=\"394\" y=\"-275.8\" font-family=\"Helvetica,sans-Serif\" font-size=\"14.00\">gini = 0.24</text>\n",
              "<text text-anchor=\"start\" x=\"385\" y=\"-260.8\" font-family=\"Helvetica,sans-Serif\" font-size=\"14.00\">samples = 40</text>\n",
              "<text text-anchor=\"start\" x=\"377.5\" y=\"-245.8\" font-family=\"Helvetica,sans-Serif\" font-size=\"14.00\">value = [[24, 16]</text>\n",
              "<text text-anchor=\"start\" x=\"405\" y=\"-230.8\" font-family=\"Helvetica,sans-Serif\" font-size=\"14.00\">[0, 40]]</text>\n",
              "</g>\n",
              "<!-- 4&#45;&gt;6 -->\n",
              "<g id=\"edge6\" class=\"edge\">\n",
              "<title>4&#45;&gt;6</title>\n",
              "<path fill=\"none\" stroke=\"black\" d=\"M346.98,-341.91C356.55,-332.65 366.81,-322.73 376.66,-313.21\"/>\n",
              "<polygon fill=\"black\" stroke=\"black\" points=\"379.34,-315.49 384.09,-306.02 374.47,-310.46 379.34,-315.49\"/>\n",
              "</g>\n",
              "<!-- 7 -->\n",
              "<g id=\"node8\" class=\"node\">\n",
              "<title>7</title>\n",
              "<path fill=\"#e58139\" stroke=\"black\" d=\"M405,-179.5C405,-179.5 323,-179.5 323,-179.5 317,-179.5 311,-173.5 311,-167.5 311,-167.5 311,-123.5 311,-123.5 311,-117.5 317,-111.5 323,-111.5 323,-111.5 405,-111.5 405,-111.5 411,-111.5 417,-117.5 417,-123.5 417,-123.5 417,-167.5 417,-167.5 417,-173.5 411,-179.5 405,-179.5\"/>\n",
              "<text text-anchor=\"start\" x=\"336\" y=\"-164.3\" font-family=\"Helvetica,sans-Serif\" font-size=\"14.00\">gini = 0.0</text>\n",
              "<text text-anchor=\"start\" x=\"323\" y=\"-149.3\" font-family=\"Helvetica,sans-Serif\" font-size=\"14.00\">samples = 16</text>\n",
              "<text text-anchor=\"start\" x=\"319\" y=\"-134.3\" font-family=\"Helvetica,sans-Serif\" font-size=\"14.00\">value = [[16, 0]</text>\n",
              "<text text-anchor=\"start\" x=\"343\" y=\"-119.3\" font-family=\"Helvetica,sans-Serif\" font-size=\"14.00\">[0, 16]]</text>\n",
              "</g>\n",
              "<!-- 6&#45;&gt;7 -->\n",
              "<g id=\"edge7\" class=\"edge\">\n",
              "<title>6&#45;&gt;7</title>\n",
              "<path fill=\"none\" stroke=\"black\" d=\"M404.49,-222.91C398.64,-211.87 392.3,-199.9 386.4,-188.77\"/>\n",
              "<polygon fill=\"black\" stroke=\"black\" points=\"389.35,-186.86 381.58,-179.67 383.17,-190.14 389.35,-186.86\"/>\n",
              "</g>\n",
              "<!-- 8 -->\n",
              "<g id=\"node9\" class=\"node\">\n",
              "<title>8</title>\n",
              "<path fill=\"#f1b992\" stroke=\"black\" d=\"M529,-187C529,-187 447,-187 447,-187 441,-187 435,-181 435,-175 435,-175 435,-116 435,-116 435,-110 441,-104 447,-104 447,-104 529,-104 529,-104 535,-104 541,-110 541,-116 541,-116 541,-175 541,-175 541,-181 535,-187 529,-187\"/>\n",
              "<text text-anchor=\"start\" x=\"454.5\" y=\"-171.8\" font-family=\"Helvetica,sans-Serif\" font-size=\"14.00\">Urine ≤ 0.5</text>\n",
              "<text text-anchor=\"start\" x=\"452.5\" y=\"-156.8\" font-family=\"Helvetica,sans-Serif\" font-size=\"14.00\">gini = 0.222</text>\n",
              "<text text-anchor=\"start\" x=\"447\" y=\"-141.8\" font-family=\"Helvetica,sans-Serif\" font-size=\"14.00\">samples = 24</text>\n",
              "<text text-anchor=\"start\" x=\"443\" y=\"-126.8\" font-family=\"Helvetica,sans-Serif\" font-size=\"14.00\">value = [[8, 16]</text>\n",
              "<text text-anchor=\"start\" x=\"467\" y=\"-111.8\" font-family=\"Helvetica,sans-Serif\" font-size=\"14.00\">[0, 24]]</text>\n",
              "</g>\n",
              "<!-- 6&#45;&gt;8 -->\n",
              "<g id=\"edge8\" class=\"edge\">\n",
              "<title>6&#45;&gt;8</title>\n",
              "<path fill=\"none\" stroke=\"black\" d=\"M447.51,-222.91C452.13,-214.2 457.05,-204.9 461.83,-195.89\"/>\n",
              "<polygon fill=\"black\" stroke=\"black\" points=\"464.94,-197.5 466.53,-187.02 458.75,-194.22 464.94,-197.5\"/>\n",
              "</g>\n",
              "<!-- 9 -->\n",
              "<g id=\"node10\" class=\"node\">\n",
              "<title>9</title>\n",
              "<path fill=\"#e58139\" stroke=\"black\" d=\"M465,-68C465,-68 391,-68 391,-68 385,-68 379,-62 379,-56 379,-56 379,-12 379,-12 379,-6 385,0 391,0 391,0 465,0 465,0 471,0 477,-6 477,-12 477,-12 477,-56 477,-56 477,-62 471,-68 465,-68\"/>\n",
              "<text text-anchor=\"start\" x=\"400\" y=\"-52.8\" font-family=\"Helvetica,sans-Serif\" font-size=\"14.00\">gini = 0.0</text>\n",
              "<text text-anchor=\"start\" x=\"390.5\" y=\"-37.8\" font-family=\"Helvetica,sans-Serif\" font-size=\"14.00\">samples = 8</text>\n",
              "<text text-anchor=\"start\" x=\"387\" y=\"-22.8\" font-family=\"Helvetica,sans-Serif\" font-size=\"14.00\">value = [[8, 0]</text>\n",
              "<text text-anchor=\"start\" x=\"411\" y=\"-7.8\" font-family=\"Helvetica,sans-Serif\" font-size=\"14.00\">[0, 8]]</text>\n",
              "</g>\n",
              "<!-- 8&#45;&gt;9 -->\n",
              "<g id=\"edge9\" class=\"edge\">\n",
              "<title>8&#45;&gt;9</title>\n",
              "<path fill=\"none\" stroke=\"black\" d=\"M465.66,-103.73C460.91,-95.06 455.89,-85.9 451.11,-77.18\"/>\n",
              "<polygon fill=\"black\" stroke=\"black\" points=\"454.12,-75.39 446.25,-68.3 447.98,-78.75 454.12,-75.39\"/>\n",
              "</g>\n",
              "<!-- 10 -->\n",
              "<g id=\"node11\" class=\"node\">\n",
              "<title>10</title>\n",
              "<path fill=\"#e58139\" stroke=\"black\" d=\"M589,-68C589,-68 507,-68 507,-68 501,-68 495,-62 495,-56 495,-56 495,-12 495,-12 495,-6 501,0 507,0 507,0 589,0 589,0 595,0 601,-6 601,-12 601,-12 601,-56 601,-56 601,-62 595,-68 589,-68\"/>\n",
              "<text text-anchor=\"start\" x=\"520\" y=\"-52.8\" font-family=\"Helvetica,sans-Serif\" font-size=\"14.00\">gini = 0.0</text>\n",
              "<text text-anchor=\"start\" x=\"507\" y=\"-37.8\" font-family=\"Helvetica,sans-Serif\" font-size=\"14.00\">samples = 16</text>\n",
              "<text text-anchor=\"start\" x=\"503\" y=\"-22.8\" font-family=\"Helvetica,sans-Serif\" font-size=\"14.00\">value = [[0, 16]</text>\n",
              "<text text-anchor=\"start\" x=\"527\" y=\"-7.8\" font-family=\"Helvetica,sans-Serif\" font-size=\"14.00\">[0, 16]]</text>\n",
              "</g>\n",
              "<!-- 8&#45;&gt;10 -->\n",
              "<g id=\"edge10\" class=\"edge\">\n",
              "<title>8&#45;&gt;10</title>\n",
              "<path fill=\"none\" stroke=\"black\" d=\"M510.34,-103.73C515.09,-95.06 520.11,-85.9 524.89,-77.18\"/>\n",
              "<polygon fill=\"black\" stroke=\"black\" points=\"528.02,-78.75 529.75,-68.3 521.88,-75.39 528.02,-78.75\"/>\n",
              "</g>\n",
              "</g>\n",
              "</svg>\n"
            ],
            "text/plain": [
              "<graphviz.sources.Source at 0x21bfafc0280>"
            ]
          },
          "execution_count": 11,
          "metadata": {},
          "output_type": "execute_result"
        }
      ],
      "source": [
        "best_alpha = ccp_alphas[1]\n",
        "best_clf = tree.DecisionTreeClassifier(random_state=0,ccp_alpha=best_alpha)\n",
        "best_clf.fit(x_train,y_train)\n",
        "dot_data = tree.export_graphviz(best_clf, out_file=None,feature_names=features,class_names=classes, filled=True, rounded=True,special_characters=True)\n",
        "graph = graphviz.Source(dot_data)\n",
        "graph\n"
      ]
    },
    {
      "cell_type": "code",
      "execution_count": null,
      "id": "12d4a0a6",
      "metadata": {
        "id": "12d4a0a6",
        "outputId": "5c967d24-d7bb-4554-a970-ce136d95f2ff"
      },
      "outputs": [
        {
          "name": "stdout",
          "output_type": "stream",
          "text": [
            "|--- feature_0 <= 37.95\n",
            "|   |--- feature_3 <= 0.50\n",
            "|   |   |--- class: 0\n",
            "|   |--- feature_3 >  0.50\n",
            "|   |   |--- class: 1\n",
            "|--- feature_0 >  37.95\n",
            "|   |--- feature_2 <= 0.50\n",
            "|   |   |--- class: 0\n",
            "|   |--- feature_2 >  0.50\n",
            "|   |   |--- feature_4 <= 0.50\n",
            "|   |   |   |--- class: 0\n",
            "|   |   |--- feature_4 >  0.50\n",
            "|   |   |   |--- feature_3 <= 0.50\n",
            "|   |   |   |   |--- class: 0\n",
            "|   |   |   |--- feature_3 >  0.50\n",
            "|   |   |   |   |--- class: 0\n",
            "\n"
          ]
        }
      ],
      "source": [
        "text_rep = tree.export_text(best_clf)\n",
        "print(text_rep)"
      ]
    },
    {
      "cell_type": "raw",
      "id": "8a85be26",
      "metadata": {
        "id": "8a85be26"
      },
      "source": [
        "For this question the data does not have column names and there are various missing values(?) in the data. The column names have been taken from https://archive.ics.uci.edu/ml/datasets/Communities+and+Crime\n",
        "Also:\n",
        "Attribute Information: (122 predictive, 5 non-predictive, 1 goal)\n"
      ]
    },
    {
      "cell_type": "code",
      "execution_count": null,
      "id": "272121d2",
      "metadata": {
        "id": "272121d2",
        "outputId": "00b12139-3673-403e-ae70-ebeab57179f5"
      },
      "outputs": [
        {
          "name": "stdout",
          "output_type": "stream",
          "text": [
            "Q.2.b\n",
            "\n",
            "      population  householdsize  racepctblack  racePctWhite  racePctAsian  \\\n",
            "0           0.19           0.33          0.02          0.90          0.12   \n",
            "1           0.00           0.16          0.12          0.74          0.45   \n",
            "2           0.00           0.42          0.49          0.56          0.17   \n",
            "3           0.04           0.77          1.00          0.08          0.12   \n",
            "4           0.01           0.55          0.02          0.95          0.09   \n",
            "...          ...            ...           ...           ...           ...   \n",
            "1989        0.01           0.40          0.10          0.87          0.12   \n",
            "1990        0.05           0.96          0.46          0.28          0.83   \n",
            "1991        0.16           0.37          0.25          0.69          0.04   \n",
            "1992        0.08           0.51          0.06          0.87          0.22   \n",
            "1993        0.20           0.78          0.14          0.46          0.24   \n",
            "\n",
            "      racePctHisp  agePct12t21  agePct12t29  agePct16t24  agePct65up  ...  \\\n",
            "0            0.17         0.34         0.47         0.29        0.32  ...   \n",
            "1            0.07         0.26         0.59         0.35        0.27  ...   \n",
            "2            0.04         0.39         0.47         0.28        0.32  ...   \n",
            "3            0.10         0.51         0.50         0.34        0.21  ...   \n",
            "4            0.05         0.38         0.38         0.23        0.36  ...   \n",
            "...           ...          ...          ...          ...         ...  ...   \n",
            "1989         0.16         0.43         0.51         0.35        0.30  ...   \n",
            "1990         0.32         0.69         0.86         0.73        0.14  ...   \n",
            "1991         0.25         0.35         0.50         0.31        0.54  ...   \n",
            "1992         0.10         0.58         0.74         0.63        0.41  ...   \n",
            "1993         0.77         0.50         0.62         0.40        0.17  ...   \n",
            "\n",
            "      LandArea  PopDens  PctUsePubTrans  PolicCars  PolicOperBudg  \\\n",
            "0         0.12     0.26            0.20       0.06           0.04   \n",
            "1         0.02     0.12            0.45          ?              ?   \n",
            "2         0.01     0.21            0.02          ?              ?   \n",
            "3         0.02     0.39            0.28          ?              ?   \n",
            "4         0.04     0.09            0.02          ?              ?   \n",
            "...        ...      ...             ...        ...            ...   \n",
            "1989      0.01     0.28            0.05          ?              ?   \n",
            "1990      0.02     0.37            0.20          ?              ?   \n",
            "1991      0.08     0.32            0.18       0.08           0.06   \n",
            "1992      0.03     0.38            0.33       0.02           0.02   \n",
            "1993      0.11     0.30            0.05       0.08           0.04   \n",
            "\n",
            "      LemasPctPolicOnPatr  LemasGangUnitDeploy  LemasPctOfficDrugUn  \\\n",
            "0                     0.9                  0.5                 0.32   \n",
            "1                       ?                    ?                 0.00   \n",
            "2                       ?                    ?                 0.00   \n",
            "3                       ?                    ?                 0.00   \n",
            "4                       ?                    ?                 0.00   \n",
            "...                   ...                  ...                  ...   \n",
            "1989                    ?                    ?                 0.00   \n",
            "1990                    ?                    ?                 0.00   \n",
            "1991                 0.78                    0                 0.91   \n",
            "1992                 0.79                    0                 0.22   \n",
            "1993                 0.73                  0.5                 1.00   \n",
            "\n",
            "      PolicBudgPerPop  ViolentCrimesPerPop  \n",
            "0                0.14                 0.20  \n",
            "1                   ?                 0.67  \n",
            "2                   ?                 0.43  \n",
            "3                   ?                 0.12  \n",
            "4                   ?                 0.03  \n",
            "...               ...                  ...  \n",
            "1989                ?                 0.09  \n",
            "1990                ?                 0.45  \n",
            "1991             0.28                 0.23  \n",
            "1992             0.18                 0.19  \n",
            "1993             0.13                 0.48  \n",
            "\n",
            "[1994 rows x 123 columns]\n"
          ]
        }
      ],
      "source": [
        "print(\"Q.2.b\\n\")\n",
        "cols =[\"state\",\"county\",\"community\",\"communityname\",\"fold\",\"population\",\"householdsize\",\"racepctblack\",\"racePctWhite\",\n",
        "\"racePctAsian\",\"racePctHisp\",\"agePct12t21\",\"agePct12t29\",\"agePct16t24\",\"agePct65up\",\"numbUrban\",\"pctUrban\",\"medIncome\",\n",
        "\"pctWWage\",\"pctWFarmSelf\",\"pctWInvInc\",\"pctWSocSec\",\"pctWPubAsst\",\"pctWRetire\",\"medFamInc\",\"perCapInc\",\"whitePerCap\",\n",
        "\"blackPerCap\",\"indianPerCap\",\"AsianPerCap\",\"OtherPerCap\",\"HispPerCap\",\"NumUnderPov\",\"PctPopUnderPov\",\"PctLess9thGrade\",\n",
        "\"PctNotHSGrad\",\"PctBSorMore\",\"PctUnemployed\",\"PctEmploy\",\"PctEmplManu\",\"PctEmplProfServ\",\"PctOccupManu\",\"PctOccupMgmtProf\",\n",
        "\"MalePctDivorce\",\"MalePctNevMarr\",\"FemalePctDiv\",\"TotalPctDiv\",\"PersPerFam\",\"PctFam2Par\",\"PctKids2Par\",\"PctYoungKids2Par\",\n",
        "\"PctTeen2Par\",\"PctWorkMomYoungKids\",\"PctWorkMom\",\"NumIlleg\",\"PctIlleg\",\"NumImmig\",\"PctImmigRecent\",\"PctImmigRec5\",\n",
        "\"PctImmigRec8\",\"PctImmigRec10\",\"PctRecentImmig\",\"PctRecImmig5\",\"PctRecImmig8\",\"PctRecImmig10\",\"PctSpeakEnglOnly\",\n",
        "\"PctNotSpeakEnglWell\",\"PctLargHouseFam\",\"PctLargHouseOccup\",\"PersPerOccupHous\",\"PersPerOwnOccHous\",\"PersPerRentOccHous\",\n",
        "\"PctPersOwnOccup\",\"PctPersDenseHous\",\"PctHousLess3BR\",\"MedNumBR\",\"HousVacant\",\"PctHousOccup\",\"PctHousOwnOcc\",\"PctVacantBoarded\",\n",
        "\"PctVacMore6Mos\",\"MedYrHousBuilt\",\"PctHousNoPhone\",\"PctWOFullPlumb\",\"OwnOccLowQuart\",\"OwnOccMedVal\",\"OwnOccHiQuart\",\"RentLowQ\",\n",
        "\"RentMedian\",\"RentHighQ\",\"MedRent\",\"MedRentPctHousInc\",\"MedOwnCostPctInc\",\"MedOwnCostPctIncNoMtg\",\"NumInShelters\",\"NumStreet\",\n",
        "\"PctForeignBorn\",\"PctBornSameState\",\"PctSameHouse85\",\"PctSameCity85\",\"PctSameState85\",\"LemasSwornFT\",\"LemasSwFTPerPop\",\n",
        "\"LemasSwFTFieldOps\",\"LemasSwFTFieldPerPop\",\"LemasTotalReq\",\"LemasTotReqPerPop\",\"PolicReqPerOffic\",\"PolicPerPop\",\n",
        "\"RacialMatchCommPol\",\"PctPolicWhite\",\"PctPolicBlack\",\"PctPolicHisp\",\"PctPolicAsian\",\"PctPolicMinor\",\"OfficAssgnDrugUnits\",\n",
        "\"NumKindsDrugsSeiz\",\"PolicAveOTWorked\",\"LandArea\",\"PopDens\",\"PctUsePubTrans\",\"PolicCars\",\"PolicOperBudg\",\"LemasPctPolicOnPatr\",\n",
        "\"LemasGangUnitDeploy\",\"LemasPctOfficDrugUn\",\"PolicBudgPerPop\",\"ViolentCrimesPerPop\"]\n",
        "\n",
        "# //////////////////////////////////////////////////\n",
        "\n",
        "# non_pred_cols = [\"state\", \"county\", \"community\", \"communityname\", \"fold\"]\n",
        "\n",
        "# //////////////////////////////////////////////////\n",
        "\n",
        "pred_cols = [\"population\",\"householdsize\",\"racepctblack\",\"racePctWhite\",\n",
        "\"racePctAsian\",\"racePctHisp\",\"agePct12t21\",\"agePct12t29\",\"agePct16t24\",\"agePct65up\",\"numbUrban\",\"pctUrban\",\"medIncome\",\n",
        "\"pctWWage\",\"pctWFarmSelf\",\"pctWInvInc\",\"pctWSocSec\",\"pctWPubAsst\",\"pctWRetire\",\"medFamInc\",\"perCapInc\",\"whitePerCap\",\n",
        "\"blackPerCap\",\"indianPerCap\",\"AsianPerCap\",\"OtherPerCap\",\"HispPerCap\",\"NumUnderPov\",\"PctPopUnderPov\",\"PctLess9thGrade\",\n",
        "\"PctNotHSGrad\",\"PctBSorMore\",\"PctUnemployed\",\"PctEmploy\",\"PctEmplManu\",\"PctEmplProfServ\",\"PctOccupManu\",\"PctOccupMgmtProf\",\n",
        "\"MalePctDivorce\",\"MalePctNevMarr\",\"FemalePctDiv\",\"TotalPctDiv\",\"PersPerFam\",\"PctFam2Par\",\"PctKids2Par\",\"PctYoungKids2Par\",\n",
        "\"PctTeen2Par\",\"PctWorkMomYoungKids\",\"PctWorkMom\",\"NumIlleg\",\"PctIlleg\",\"NumImmig\",\"PctImmigRecent\",\"PctImmigRec5\",\n",
        "\"PctImmigRec8\",\"PctImmigRec10\",\"PctRecentImmig\",\"PctRecImmig5\",\"PctRecImmig8\",\"PctRecImmig10\",\"PctSpeakEnglOnly\",\n",
        "\"PctNotSpeakEnglWell\",\"PctLargHouseFam\",\"PctLargHouseOccup\",\"PersPerOccupHous\",\"PersPerOwnOccHous\",\"PersPerRentOccHous\",\n",
        "\"PctPersOwnOccup\",\"PctPersDenseHous\",\"PctHousLess3BR\",\"MedNumBR\",\"HousVacant\",\"PctHousOccup\",\"PctHousOwnOcc\",\"PctVacantBoarded\",\n",
        "\"PctVacMore6Mos\",\"MedYrHousBuilt\",\"PctHousNoPhone\",\"PctWOFullPlumb\",\"OwnOccLowQuart\",\"OwnOccMedVal\",\"OwnOccHiQuart\",\"RentLowQ\",\n",
        "\"RentMedian\",\"RentHighQ\",\"MedRent\",\"MedRentPctHousInc\",\"MedOwnCostPctInc\",\"MedOwnCostPctIncNoMtg\",\"NumInShelters\",\"NumStreet\",\n",
        "\"PctForeignBorn\",\"PctBornSameState\",\"PctSameHouse85\",\"PctSameCity85\",\"PctSameState85\",\"LemasSwornFT\",\"LemasSwFTPerPop\",\n",
        "\"LemasSwFTFieldOps\",\"LemasSwFTFieldPerPop\",\"LemasTotalReq\",\"LemasTotReqPerPop\",\"PolicReqPerOffic\",\"PolicPerPop\",\n",
        "\"RacialMatchCommPol\",\"PctPolicWhite\",\"PctPolicBlack\",\"PctPolicHisp\",\"PctPolicAsian\",\"PctPolicMinor\",\"OfficAssgnDrugUnits\",\n",
        "\"NumKindsDrugsSeiz\",\"PolicAveOTWorked\",\"LandArea\",\"PopDens\",\"PctUsePubTrans\",\"PolicCars\",\"PolicOperBudg\",\"LemasPctPolicOnPatr\",\n",
        "\"LemasGangUnitDeploy\",\"LemasPctOfficDrugUn\",\"PolicBudgPerPop\",\"ViolentCrimesPerPop\"]\n",
        "\n",
        "df = pd.read_csv(r\"../Data/communities.csv\", header= None, names = cols)\n",
        "# removing non_pred_cols from the datdset\n",
        "df = df.loc[:,\"population\":]\n",
        "print(df)"
      ]
    },
    {
      "cell_type": "markdown",
      "id": "a411a421",
      "metadata": {
        "id": "a411a421"
      },
      "source": [
        "The data needs to be cleaned as it contains insignificant values(?)"
      ]
    },
    {
      "cell_type": "code",
      "execution_count": null,
      "id": "5f0c6aba",
      "metadata": {
        "id": "5f0c6aba",
        "outputId": "d6a1bb70-eb72-45d4-cdfb-3c772e0c608c"
      },
      "outputs": [
        {
          "name": "stdout",
          "output_type": "stream",
          "text": [
            "      population  householdsize  racepctblack  racePctWhite  racePctAsian  \\\n",
            "0           0.19           0.33          0.02          0.90          0.12   \n",
            "1           0.00           0.16          0.12          0.74          0.45   \n",
            "2           0.00           0.42          0.49          0.56          0.17   \n",
            "3           0.04           0.77          1.00          0.08          0.12   \n",
            "4           0.01           0.55          0.02          0.95          0.09   \n",
            "...          ...            ...           ...           ...           ...   \n",
            "1989        0.01           0.40          0.10          0.87          0.12   \n",
            "1990        0.05           0.96          0.46          0.28          0.83   \n",
            "1991        0.16           0.37          0.25          0.69          0.04   \n",
            "1992        0.08           0.51          0.06          0.87          0.22   \n",
            "1993        0.20           0.78          0.14          0.46          0.24   \n",
            "\n",
            "      racePctHisp  agePct12t21  agePct12t29  agePct16t24  agePct65up  ...  \\\n",
            "0            0.17         0.34         0.47         0.29        0.32  ...   \n",
            "1            0.07         0.26         0.59         0.35        0.27  ...   \n",
            "2            0.04         0.39         0.47         0.28        0.32  ...   \n",
            "3            0.10         0.51         0.50         0.34        0.21  ...   \n",
            "4            0.05         0.38         0.38         0.23        0.36  ...   \n",
            "...           ...          ...          ...          ...         ...  ...   \n",
            "1989         0.16         0.43         0.51         0.35        0.30  ...   \n",
            "1990         0.32         0.69         0.86         0.73        0.14  ...   \n",
            "1991         0.25         0.35         0.50         0.31        0.54  ...   \n",
            "1992         0.10         0.58         0.74         0.63        0.41  ...   \n",
            "1993         0.77         0.50         0.62         0.40        0.17  ...   \n",
            "\n",
            "      LandArea  PopDens  PctUsePubTrans  PolicCars  PolicOperBudg  \\\n",
            "0         0.12     0.26            0.20       0.06           0.04   \n",
            "1         0.02     0.12            0.45        NaN            NaN   \n",
            "2         0.01     0.21            0.02        NaN            NaN   \n",
            "3         0.02     0.39            0.28        NaN            NaN   \n",
            "4         0.04     0.09            0.02        NaN            NaN   \n",
            "...        ...      ...             ...        ...            ...   \n",
            "1989      0.01     0.28            0.05        NaN            NaN   \n",
            "1990      0.02     0.37            0.20        NaN            NaN   \n",
            "1991      0.08     0.32            0.18       0.08           0.06   \n",
            "1992      0.03     0.38            0.33       0.02           0.02   \n",
            "1993      0.11     0.30            0.05       0.08           0.04   \n",
            "\n",
            "      LemasPctPolicOnPatr  LemasGangUnitDeploy  LemasPctOfficDrugUn  \\\n",
            "0                    0.90                  0.5                 0.32   \n",
            "1                     NaN                  NaN                 0.00   \n",
            "2                     NaN                  NaN                 0.00   \n",
            "3                     NaN                  NaN                 0.00   \n",
            "4                     NaN                  NaN                 0.00   \n",
            "...                   ...                  ...                  ...   \n",
            "1989                  NaN                  NaN                 0.00   \n",
            "1990                  NaN                  NaN                 0.00   \n",
            "1991                 0.78                  0.0                 0.91   \n",
            "1992                 0.79                  0.0                 0.22   \n",
            "1993                 0.73                  0.5                 1.00   \n",
            "\n",
            "      PolicBudgPerPop  ViolentCrimesPerPop  \n",
            "0                0.14                 0.20  \n",
            "1                 NaN                 0.67  \n",
            "2                 NaN                 0.43  \n",
            "3                 NaN                 0.12  \n",
            "4                 NaN                 0.03  \n",
            "...               ...                  ...  \n",
            "1989              NaN                 0.09  \n",
            "1990              NaN                 0.45  \n",
            "1991             0.28                 0.23  \n",
            "1992             0.18                 0.19  \n",
            "1993             0.13                 0.48  \n",
            "\n",
            "[1994 rows x 123 columns]\n"
          ]
        }
      ],
      "source": [
        "df = df.apply(pd.to_numeric, errors='coerce')\n",
        "print(df)"
      ]
    },
    {
      "cell_type": "markdown",
      "id": "a9bf70ec",
      "metadata": {
        "id": "a9bf70ec"
      },
      "source": [
        "replacing NaN by mean of the column mean so that the variance does not change by a large margin."
      ]
    },
    {
      "cell_type": "code",
      "execution_count": null,
      "id": "efa4c373",
      "metadata": {
        "id": "efa4c373",
        "outputId": "58d1843f-d524-431a-ac98-0d8c44375379"
      },
      "outputs": [
        {
          "name": "stdout",
          "output_type": "stream",
          "text": [
            "      population  householdsize  racepctblack  racePctWhite  racePctAsian  \\\n",
            "0           0.19           0.33          0.02          0.90          0.12   \n",
            "1           0.00           0.16          0.12          0.74          0.45   \n",
            "2           0.00           0.42          0.49          0.56          0.17   \n",
            "3           0.04           0.77          1.00          0.08          0.12   \n",
            "4           0.01           0.55          0.02          0.95          0.09   \n",
            "...          ...            ...           ...           ...           ...   \n",
            "1989        0.01           0.40          0.10          0.87          0.12   \n",
            "1990        0.05           0.96          0.46          0.28          0.83   \n",
            "1991        0.16           0.37          0.25          0.69          0.04   \n",
            "1992        0.08           0.51          0.06          0.87          0.22   \n",
            "1993        0.20           0.78          0.14          0.46          0.24   \n",
            "\n",
            "      racePctHisp  agePct12t21  agePct12t29  agePct16t24  agePct65up  ...  \\\n",
            "0            0.17         0.34         0.47         0.29        0.32  ...   \n",
            "1            0.07         0.26         0.59         0.35        0.27  ...   \n",
            "2            0.04         0.39         0.47         0.28        0.32  ...   \n",
            "3            0.10         0.51         0.50         0.34        0.21  ...   \n",
            "4            0.05         0.38         0.38         0.23        0.36  ...   \n",
            "...           ...          ...          ...          ...         ...  ...   \n",
            "1989         0.16         0.43         0.51         0.35        0.30  ...   \n",
            "1990         0.32         0.69         0.86         0.73        0.14  ...   \n",
            "1991         0.25         0.35         0.50         0.31        0.54  ...   \n",
            "1992         0.10         0.58         0.74         0.63        0.41  ...   \n",
            "1993         0.77         0.50         0.62         0.40        0.17  ...   \n",
            "\n",
            "      LandArea  PopDens  PctUsePubTrans  PolicCars  PolicOperBudg  \\\n",
            "0         0.12     0.26            0.20   0.060000       0.040000   \n",
            "1         0.02     0.12            0.45   0.163103       0.076708   \n",
            "2         0.01     0.21            0.02   0.163103       0.076708   \n",
            "3         0.02     0.39            0.28   0.163103       0.076708   \n",
            "4         0.04     0.09            0.02   0.163103       0.076708   \n",
            "...        ...      ...             ...        ...            ...   \n",
            "1989      0.01     0.28            0.05   0.163103       0.076708   \n",
            "1990      0.02     0.37            0.20   0.163103       0.076708   \n",
            "1991      0.08     0.32            0.18   0.080000       0.060000   \n",
            "1992      0.03     0.38            0.33   0.020000       0.020000   \n",
            "1993      0.11     0.30            0.05   0.080000       0.040000   \n",
            "\n",
            "      LemasPctPolicOnPatr  LemasGangUnitDeploy  LemasPctOfficDrugUn  \\\n",
            "0                0.900000             0.500000                 0.32   \n",
            "1                0.698589             0.440439                 0.00   \n",
            "2                0.698589             0.440439                 0.00   \n",
            "3                0.698589             0.440439                 0.00   \n",
            "4                0.698589             0.440439                 0.00   \n",
            "...                   ...                  ...                  ...   \n",
            "1989             0.698589             0.440439                 0.00   \n",
            "1990             0.698589             0.440439                 0.00   \n",
            "1991             0.780000             0.000000                 0.91   \n",
            "1992             0.790000             0.000000                 0.22   \n",
            "1993             0.730000             0.500000                 1.00   \n",
            "\n",
            "      PolicBudgPerPop  ViolentCrimesPerPop  \n",
            "0            0.140000                 0.20  \n",
            "1            0.195078                 0.67  \n",
            "2            0.195078                 0.43  \n",
            "3            0.195078                 0.12  \n",
            "4            0.195078                 0.03  \n",
            "...               ...                  ...  \n",
            "1989         0.195078                 0.09  \n",
            "1990         0.195078                 0.45  \n",
            "1991         0.280000                 0.23  \n",
            "1992         0.180000                 0.19  \n",
            "1993         0.130000                 0.48  \n",
            "\n",
            "[1994 rows x 123 columns]\n"
          ]
        }
      ],
      "source": [
        "df = df.fillna(df.mean())\n",
        "print(df)"
      ]
    },
    {
      "cell_type": "code",
      "execution_count": null,
      "id": "5326c299",
      "metadata": {
        "id": "5326c299",
        "outputId": "191086af-229c-45b0-bf04-b894b5318e34"
      },
      "outputs": [
        {
          "name": "stdout",
          "output_type": "stream",
          "text": [
            "Q.2.a\n",
            "\n",
            "(1495, 122)\n",
            "(1495,)\n",
            "(499, 122)\n",
            "(499,)\n"
          ]
        }
      ],
      "source": [
        "print('Q.2.a\\n')\n",
        "train = df.iloc[:1495,:]\n",
        "test = df.iloc[1495:,:]\n",
        "train_x = df.iloc[:1495,:-1]\n",
        "test_x = df.iloc[1495:,:-1]\n",
        "train_y = df.loc[:1494,\"ViolentCrimesPerPop\"]\n",
        "test_y = df.loc[1495:,\"ViolentCrimesPerPop\"]\n",
        "print(train_x.shape)\n",
        "print(train_y.shape)\n",
        "print(test_x.shape)\n",
        "print(test_y.shape)\n"
      ]
    },
    {
      "cell_type": "code",
      "execution_count": null,
      "id": "5974582c",
      "metadata": {
        "id": "5974582c",
        "outputId": "112d7e9b-f800-4f6f-a8a6-8e08c44a9e96"
      },
      "outputs": [
        {
          "name": "stdout",
          "output_type": "stream",
          "text": [
            "      population  householdsize  racepctblack  racePctWhite  racePctAsian  \\\n",
            "1495        0.00           0.20          0.03          0.91          0.23   \n",
            "1496        0.00           0.55          0.13          0.78          0.15   \n",
            "1497        0.00           0.52          0.04          0.59          0.05   \n",
            "1498        0.04           0.51          0.07          0.92          0.09   \n",
            "1499        0.03           0.59          0.20          0.75          0.19   \n",
            "...          ...            ...           ...           ...           ...   \n",
            "1989        0.01           0.40          0.10          0.87          0.12   \n",
            "1990        0.05           0.96          0.46          0.28          0.83   \n",
            "1991        0.16           0.37          0.25          0.69          0.04   \n",
            "1992        0.08           0.51          0.06          0.87          0.22   \n",
            "1993        0.20           0.78          0.14          0.46          0.24   \n",
            "\n",
            "      racePctHisp  agePct12t21  agePct12t29  agePct16t24  agePct65up  ...  \\\n",
            "1495         0.05         0.15         0.19         0.09        0.42  ...   \n",
            "1496         0.36         0.48         0.53         0.30        0.10  ...   \n",
            "1497         0.62         0.84         0.78         0.75        0.43  ...   \n",
            "1498         0.03         0.38         0.47         0.27        0.35  ...   \n",
            "1499         0.10         0.38         0.62         0.35        0.11  ...   \n",
            "...           ...          ...          ...          ...         ...  ...   \n",
            "1989         0.16         0.43         0.51         0.35        0.30  ...   \n",
            "1990         0.32         0.69         0.86         0.73        0.14  ...   \n",
            "1991         0.25         0.35         0.50         0.31        0.54  ...   \n",
            "1992         0.10         0.58         0.74         0.63        0.41  ...   \n",
            "1993         0.77         0.50         0.62         0.40        0.17  ...   \n",
            "\n",
            "      LandArea  PopDens  PctUsePubTrans  PolicCars  PolicOperBudg  \\\n",
            "1495      0.01     0.23            0.73   0.163103       0.076708   \n",
            "1496      0.01     0.18            0.02   0.163103       0.076708   \n",
            "1497      0.01     0.18            0.00   0.163103       0.076708   \n",
            "1498      0.06     0.13            0.16   0.163103       0.076708   \n",
            "1499      0.03     0.23            0.06   0.163103       0.076708   \n",
            "...        ...      ...             ...        ...            ...   \n",
            "1989      0.01     0.28            0.05   0.163103       0.076708   \n",
            "1990      0.02     0.37            0.20   0.163103       0.076708   \n",
            "1991      0.08     0.32            0.18   0.080000       0.060000   \n",
            "1992      0.03     0.38            0.33   0.020000       0.020000   \n",
            "1993      0.11     0.30            0.05   0.080000       0.040000   \n",
            "\n",
            "      LemasPctPolicOnPatr  LemasGangUnitDeploy  LemasPctOfficDrugUn  \\\n",
            "1495             0.698589             0.440439                 0.00   \n",
            "1496             0.698589             0.440439                 0.00   \n",
            "1497             0.698589             0.440439                 0.00   \n",
            "1498             0.698589             0.440439                 0.00   \n",
            "1499             0.698589             0.440439                 0.00   \n",
            "...                   ...                  ...                  ...   \n",
            "1989             0.698589             0.440439                 0.00   \n",
            "1990             0.698589             0.440439                 0.00   \n",
            "1991             0.780000             0.000000                 0.91   \n",
            "1992             0.790000             0.000000                 0.22   \n",
            "1993             0.730000             0.500000                 1.00   \n",
            "\n",
            "      PolicBudgPerPop  ViolentCrimesPerPop  \n",
            "1495         0.195078                 0.12  \n",
            "1496         0.195078                 0.11  \n",
            "1497         0.195078                 0.12  \n",
            "1498         0.195078                 0.06  \n",
            "1499         0.195078                 0.12  \n",
            "...               ...                  ...  \n",
            "1989         0.195078                 0.09  \n",
            "1990         0.195078                 0.45  \n",
            "1991         0.280000                 0.23  \n",
            "1992         0.180000                 0.19  \n",
            "1993         0.130000                 0.48  \n",
            "\n",
            "[499 rows x 123 columns]\n"
          ]
        }
      ],
      "source": [
        "\n",
        "print(test)\n"
      ]
    },
    {
      "cell_type": "markdown",
      "source": [
        "# Heat Map"
      ],
      "metadata": {
        "id": "FkQCqfKmJwPa"
      },
      "id": "FkQCqfKmJwPa"
    },
    {
      "cell_type": "code",
      "execution_count": null,
      "id": "aa9c3652",
      "metadata": {
        "id": "aa9c3652",
        "outputId": "eb5d4643-35d5-4aa2-ae2b-bbaa5ac5a17a"
      },
      "outputs": [
        {
          "name": "stdout",
          "output_type": "stream",
          "text": [
            "Q.2.c\n",
            "\n"
          ]
        },
        {
          "data": {
            "image/png": "[encoded data removed]",
            "text/plain": [
              "<Figure size 1440x1440 with 2 Axes>"
            ]
          },
          "metadata": {
            "needs_background": "light"
          },
          "output_type": "display_data"
        }
      ],
      "source": [
        "print('Q.2.c\\n')\n",
        "fig = plt.figure(figsize=(20,20))\n",
        "plt.matshow(df.corr(),fignum=fig.number)\n",
        "plt.xticks(range(len(df.columns)),df.columns,fontsize=5,rotation=60)\n",
        "plt.yticks(range(len(df.columns)),df.columns,fontsize=5,rotation=0)\n",
        "colors= plt.colorbar()\n",
        "plt.show()"
      ]
    },
    {
      "cell_type": "code",
      "execution_count": null,
      "id": "48f932f4",
      "metadata": {
        "id": "48f932f4",
        "outputId": "85c16b47-8a78-40a5-a444-bea23358eb10"
      },
      "outputs": [
        {
          "name": "stdout",
          "output_type": "stream",
          "text": [
            "Q.2.d\n",
            "\n",
            "population             2.203503\n",
            "householdsize          0.353298\n",
            "racepctblack           1.410920\n",
            "racePctWhite           0.323782\n",
            "racePctAsian           1.359162\n",
            "                         ...   \n",
            "LemasPctPolicOnPatr    0.122331\n",
            "LemasGangUnitDeploy    0.368040\n",
            "LemasPctOfficDrugUn    2.555266\n",
            "PolicBudgPerPop        0.337281\n",
            "ViolentCrimesPerPop    0.979015\n",
            "Length: 123, dtype: float64\n"
          ]
        }
      ],
      "source": [
        "print('Q.2.d\\n')\n",
        "coef_var = df.std()/df.mean()\n",
        "print(coef_var)"
      ]
    },
    {
      "cell_type": "code",
      "execution_count": null,
      "id": "bc26f933",
      "metadata": {
        "id": "bc26f933",
        "outputId": "edf09991-8f06-4c25-c1c5-ebe181670342"
      },
      "outputs": [
        {
          "name": "stdout",
          "output_type": "stream",
          "text": [
            "Q.2.e\n",
            "\n",
            "Index(['feature', 'CV'], dtype='object')\n"
          ]
        }
      ],
      "source": [
        "print('Q.2.e\\n')\n",
        "df2 = pd.DataFrame(coef_var)\n",
        "df2  =df2.reset_index()\n",
        "df2=df2.rename(columns={'index':'feature',0:'CV'})\n",
        "print(df2.columns)"
      ]
    },
    {
      "cell_type": "code",
      "execution_count": null,
      "id": "7318e881",
      "metadata": {
        "id": "7318e881",
        "outputId": "ae0ffa65-1cfa-4a56-b4ae-5763dc525fe4"
      },
      "outputs": [
        {
          "name": "stdout",
          "output_type": "stream",
          "text": [
            "Index(['feature', 'CV'], dtype='object')\n",
            "                 feature        CV\n",
            "0              NumStreet  4.407702\n",
            "1          NumInShelters  3.485481\n",
            "2               NumIlleg  2.994196\n",
            "3               NumImmig  2.900497\n",
            "4    LemasPctOfficDrugUn  2.555266\n",
            "..                   ...       ...\n",
            "118    NumKindsDrugsSeiz  0.145956\n",
            "119   RacialMatchCommPol  0.131417\n",
            "120  LemasPctPolicOnPatr  0.122331\n",
            "121        PctPolicWhite  0.121659\n",
            "122    LemasSwFTFieldOps  0.057126\n",
            "\n",
            "[123 rows x 2 columns]\n"
          ]
        }
      ],
      "source": [
        "print(df2.columns)\n",
        "df2 = df2.sort_values(by=\"CV\",ascending=False).reset_index(drop=True)\n",
        "print(df2)"
      ]
    },
    {
      "cell_type": "code",
      "execution_count": null,
      "id": "7367c11d",
      "metadata": {
        "id": "7367c11d"
      },
      "outputs": [],
      "source": [
        "highest_cv = int(128**0.5)\n",
        "# print(highest_cv)\n",
        "df2=df2.iloc[:highest_cv,:]\n",
        "temp_cols = df2['feature'].values\n",
        "# temp_cols"
      ]
    },
    {
      "cell_type": "code",
      "execution_count": null,
      "id": "0af76da4",
      "metadata": {
        "id": "0af76da4"
      },
      "outputs": [],
      "source": [
        "temp_df = df[temp_cols]\n",
        "pp = sbn.pairplot(temp_df,diag_kind='kde')"
      ]
    },
    {
      "cell_type": "markdown",
      "id": "bddb6ac5",
      "metadata": {
        "id": "bddb6ac5"
      },
      "source": [
        "Inferences:\n",
        "1. There is a linear relationship between 'population' (population for community) and 'numbUrban' (number of people living in areas classified as urban). plot(7,8)\n",
        "2. There is a linear relationship betweeen 'NumIlleg' (number of kids born to never married) and 'population' (population for community) plot(3,7)\n",
        "3. There is a linear relationship betweeen 'NumUnderPov' (number of people under the poverty level) and 'NumIlleg' (number of kids born to never married) plot(6,3)\n",
        "-So they represent a positive correlation between them."
      ]
    },
    {
      "cell_type": "code",
      "execution_count": null,
      "id": "11973cf6",
      "metadata": {
        "id": "11973cf6"
      },
      "outputs": [],
      "source": [
        "print('Q.2.f\\n')\n",
        "mod = LinearRegression()\n",
        "mod.fit(train_x,train_y)\n",
        "pred = mod.predict(test_x)\n",
        "# rmse = math.sqrt(metrics.mean_squared_error(test_y,pred))\n",
        "print(f\"The test error of the Linear regression model is {metrics.mean_squared_error(test_y,pred)}\\n\")"
      ]
    },
    {
      "cell_type": "code",
      "execution_count": null,
      "id": "ed0779f6",
      "metadata": {
        "id": "ed0779f6"
      },
      "outputs": [],
      "source": [
        "\n",
        "alpha_arr = 10**np.linspace(10,-2,100)*0.5\n",
        "# alpha_arr\n"
      ]
    },
    {
      "cell_type": "code",
      "execution_count": null,
      "id": "dfa2b582",
      "metadata": {
        "id": "dfa2b582"
      },
      "outputs": [],
      "source": [
        "print('Q.2.g\\n')\n",
        "ridge_cv = RidgeCV(alphas=alpha_arr,fit_intercept=True,cv=10,scoring='neg_mean_squared_error')\n",
        "ridge_cv.fit(train_x,train_y)\n",
        "ideal_lambda_rr = ridge_cv.alpha_\n",
        "print(f\"Best regularization parameter = {ideal_lambda_rr}\\n\")\n",
        "ridge_mod = Ridge(alpha=ideal_lambda_rr,normalize=True)\n",
        "ridge_mod.fit(train_x,train_y)\n",
        "pred_rr = ridge_mod.predict(test_x)\n",
        "# rmse_rr = math.sqrt(metrics.mean_squared_error(test_y,pred_rr))\n",
        "print(f\"The test error rate of the Ridge Regression Model is {metrics.mean_squared_error(test_y,pred_rr)}\\n\")"
      ]
    },
    {
      "cell_type": "code",
      "execution_count": null,
      "id": "8bd5baae",
      "metadata": {
        "id": "8bd5baae"
      },
      "outputs": [],
      "source": [
        "# sklearn.metrics.get_scorer_names()"
      ]
    },
    {
      "cell_type": "code",
      "execution_count": null,
      "id": "425efcbf",
      "metadata": {
        "id": "425efcbf"
      },
      "outputs": [],
      "source": [
        "print('Q.2.h\\n')\n",
        "lasso_cv = LassoCV(eps=1e-3,alphas=alpha_arr,fit_intercept=True,cv=10,max_iter=10000)\n",
        "lasso_cv.fit(train_x,train_y)\n",
        "ideal_lambda_lasso = lasso_cv.alpha_\n",
        "print(f\"Best regularization parameter = {ideal_lambda_lasso}\\n\")\n",
        "lasso_mod = Lasso(alpha=ideal_lambda_lasso)\n",
        "lasso_mod.fit(train_x,train_y)\n",
        "pred_lasso = lasso_mod.predict(test_x)\n",
        "print(f\"The test error rate of the Lasso Regression Model is {metrics.mean_squared_error(test_y,pred_lasso)}\\n\")"
      ]
    },
    {
      "cell_type": "markdown",
      "id": "be121dfb",
      "metadata": {
        "id": "be121dfb"
      },
      "source": [
        "## reasons for standardising variables:\n",
        "\n",
        "### Lasso regression puts constraints on the size of the coefficients associated to each variable. However, this value will depend on the magnitude of each variable. It is therefore necessary to center and reduce, or standardize, the variables.\n",
        "\n",
        "### The result of centering the variables means that there is no longer an intercept. This applies equally to ridge regression, by the way."
      ]
    },
    {
      "cell_type": "code",
      "execution_count": null,
      "id": "d009ade4",
      "metadata": {
        "id": "d009ade4"
      },
      "outputs": [],
      "source": [
        "coef = lasso_mod.coef_\n",
        "print(coef)\n",
        "unstd_cols=[]\n",
        "for i in range(0,len(coef)):\n",
        "    if coef[i]!=0.0 or coef[i]!=-0.0:\n",
        "        unstd_cols.append(train_x.columns[i])\n",
        "print(unstd_cols)"
      ]
    },
    {
      "cell_type": "code",
      "execution_count": null,
      "id": "a67a6ebf",
      "metadata": {
        "id": "a67a6ebf"
      },
      "outputs": [],
      "source": [
        "print(\"Standardized Lasso\\n\")\n",
        "std_train_x  = StandardScaler().fit_transform(train_x)\n",
        "std_test_x = StandardScaler().fit_transform(test_x)\n",
        "lasso_cv.fit(std_train_x,train_y)\n",
        "std_ideal_lambda = lasso_cv.alpha_\n",
        "print(f\"Best regularization parameter = {std_ideal_lambda}\\n\")\n",
        "std_lasso_mod=Lasso(alpha=std_ideal_lambda)\n",
        "std_lasso_mod.fit(std_train_x,train_y)\n",
        "std_pred = std_lasso_mod.predict(std_test_x)\n",
        "print(f\"The test error rate of the Standardized Lasso Regression Model is {metrics.mean_squared_error(test_y,std_pred)}\\n\")"
      ]
    },
    {
      "cell_type": "code",
      "execution_count": null,
      "id": "590e2448",
      "metadata": {
        "id": "590e2448"
      },
      "outputs": [],
      "source": [
        "print(f'The test error for unstandardized Lasso regression is {metrics.mean_squared_error(test_y,pred_lasso)} and that of standardized Lasso is {metrics.mean_squared_error(test_y,std_pred)}\\n')"
      ]
    },
    {
      "cell_type": "markdown",
      "id": "55238500",
      "metadata": {
        "id": "55238500"
      },
      "source": [
        "Therefore it can be inferred that Standardized Lasso Regression gives a better accuracy as compared to unstandardized Lassso Regression Model."
      ]
    },
    {
      "cell_type": "code",
      "execution_count": null,
      "id": "1f8dd535",
      "metadata": {
        "id": "1f8dd535"
      },
      "outputs": [],
      "source": [
        "print('Q.2.i\\n')\n",
        "m = len(train_x.columns)\n",
        "mse_arr=[]\n",
        "# print(m)\n",
        "pca = PCA()\n",
        "reduced_train_x = pca.fit_transform(std_train_x)\n",
        "n = len(reduced_train_x)\n",
        "# print(n)\n",
        "for i in range(0,m):\n",
        "    temp_mod = LinearRegression()\n",
        "    k_fold = KFold(n_splits=10,shuffle=True,random_state=1)\n",
        "    cv = cross_val_score(temp_mod,reduced_train_x[:,0:i+1],train_y,cv =10, scoring='neg_mean_squared_error')\n",
        "    pass_mse = np.mean(np.abs(cv))\n",
        "    mse_arr.append(pass_mse)\n",
        "# print(mse_arr)\n",
        "# print(len(mse_arr))\n",
        "min_mse = min(mse_arr)\n",
        "best_m = mse_arr.index(min_mse)+1\n",
        "print(best_m)"
      ]
    },
    {
      "cell_type": "code",
      "execution_count": null,
      "id": "4c103831",
      "metadata": {
        "id": "4c103831"
      },
      "outputs": [],
      "source": [
        "best_pca = PCA(n_components=best_m)\n",
        "best_train_x = best_pca.fit_transform(train_x)\n",
        "best_test_x = best_pca.fit_transform(test_x)\n",
        "best_mod = LinearRegression()\n",
        "best_mod.fit(best_train_x,train_y)\n",
        "best_pred = best_mod.predict(best_test_x)\n",
        "print(f\"The test error rate of the Linear Regression after PCA is {metrics.mean_squared_error(test_y,best_pred)}\\n\")"
      ]
    },
    {
      "cell_type": "code",
      "execution_count": null,
      "id": "5e4fcc56",
      "metadata": {
        "id": "5e4fcc56"
      },
      "outputs": [],
      "source": [
        "print('Q.2.i\\n')\n",
        "warnings.filterwarnings(action='ignore')\n",
        "xgb = XGBRegressor()\n",
        "params = {'max_depth': [2,3],\n",
        "          'eta': [0.1],\n",
        "          'colsample_bytree': [1.0],\n",
        "          'colsample_bylevel': [0.3],\n",
        "          'subsample': [0.9],\n",
        "          'gamma': [0],\n",
        "          'lambda': [1],\n",
        "          'alpha':np.linspace(-2,5,10),\n",
        "          'min_child_weight':[1]\n",
        "         }\n",
        "grid = GridSearchCV(estimator=xgb,param_grid=params,cv=4,scoring='neg_mean_squared_error',verbose=True)\n",
        "grid_mod=grid.fit(train_x,train_y)\n",
        "grid_pred = grid_mod.predict(test_x)\n",
        "pd.DataFrame(grid.cv_results_)"
      ]
    },
    {
      "cell_type": "markdown",
      "id": "99d4e574",
      "metadata": {
        "id": "99d4e574"
      },
      "source": [
        "From the above dataframe, the minimum test MSE is found to be 0.004660\tfor alpha 0.33. (Last column with rank=1)"
      ]
    }
  ],
  "metadata": {
    "kernelspec": {
      "display_name": "Python 3",
      "language": "python",
      "name": "python3"
    },
    "language_info": {
      "codemirror_mode": {
        "name": "ipython",
        "version": 3
      },
      "file_extension": ".py",
      "mimetype": "text/x-python",
      "name": "python",
      "nbconvert_exporter": "python",
      "pygments_lexer": "ipython3",
      "version": "3.8.8"
    },
    "colab": {
      "provenance": [],
      "include_colab_link": true
    }
  },
  "nbformat": 4,
  "nbformat_minor": 5
}
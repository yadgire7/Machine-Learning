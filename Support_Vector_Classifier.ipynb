{
  "cells": [
    {
      "cell_type": "markdown",
      "metadata": {
        "id": "view-in-github",
        "colab_type": "text"
      },
      "source": [
        "<a href=\"https://colab.research.google.com/github/yadgire7/Machine-Learning/blob/master/Support_Vector_Classifier.ipynb\" target=\"_parent\"><img src=\"https://colab.research.google.com/assets/colab-badge.svg\" alt=\"Open In Colab\"/></a>"
      ]
    },
    {
      "cell_type": "markdown",
      "id": "d8b1dfca",
      "metadata": {
        "id": "d8b1dfca"
      },
      "source": [
        "Name: Saurabh Arun Yadgire USC ID: 8065527198 Github ID:yadgire7"
      ]
    },
    {
      "cell_type": "markdown",
      "id": "8ce5ae46",
      "metadata": {
        "id": "8ce5ae46"
      },
      "source": [
        "Resources:\n",
        "1. https://towardsdatascience.com/evaluating-multi-label-classifiers-a31be83da6ea\n",
        "2. https://stackoverflow.com/questions/32239577/getting-the-accuracy-for-multi-label-prediction-in-scikit-learn\n",
        "3. http://scikit-learn.org/stable/auto_examples/svm/plot_rbf_parameters.html\n",
        "4. https://scikit-learn.org/stable/auto_examples/cluster/plot_kmeans_silhouette_analysis.html\n",
        "5. https://towardsdatascience.com/k-means-clustering-from-a-to-z-f6242a314e9a\n",
        "6. https://stanford.edu/~cpiech/cs221/handouts/kmeans.html\n",
        "7.\n",
        "\n"
      ]
    },
    {
      "cell_type": "markdown",
      "source": [
        "# Import Libraries"
      ],
      "metadata": {
        "id": "4KvMevN5L7lH"
      },
      "id": "4KvMevN5L7lH"
    },
    {
      "cell_type": "code",
      "execution_count": null,
      "id": "1d46bdd3",
      "metadata": {
        "id": "1d46bdd3"
      },
      "outputs": [],
      "source": [
        "import sys\n",
        "import math\n",
        "import pandas as pd\n",
        "import numpy as np\n",
        "import matplotlib.pyplot as plt\n",
        "import seaborn as sbn\n",
        "from sklearn.linear_model import LogisticRegression\n",
        "from sklearn.model_selection import train_test_split,GridSearchCV,StratifiedShuffleSplit,KFold\n",
        "from sklearn.multiclass import OneVsRestClassifier\n",
        "from sklearn.svm import SVC,LinearSVC\n",
        "from sklearn.pipeline import Pipeline,make_pipeline\n",
        "from sklearn.metrics import accuracy_score,classification_report, silhouette_samples,silhouette_score,hamming_loss\n",
        "from imblearn.over_sampling import SMOTE\n",
        "from sklearn.preprocessing import StandardScaler\n",
        "from sklearn.cluster import KMeans\n",
        "import warnings\n",
        "import statistics\n",
        "import random"
      ]
    },
    {
      "cell_type": "markdown",
      "id": "a8627305",
      "metadata": {
        "id": "a8627305"
      },
      "source": [
        "# Load Data"
      ]
    },
    {
      "cell_type": "code",
      "execution_count": null,
      "id": "8d9c4384",
      "metadata": {
        "id": "8d9c4384",
        "outputId": "d95875e2-d51c-4d5e-8e33-bf5ee0419b12"
      },
      "outputs": [
        {
          "name": "stdout",
          "output_type": "stream",
          "text": [
            "Index(['Family', 'Genus', 'Species'], dtype='object')\n",
            "      MFCCs_ 1  MFCCs_ 2  MFCCs_ 3  MFCCs_ 4  MFCCs_ 5  MFCCs_ 6  MFCCs_ 7  \\\n",
            "0          1.0  0.152936 -0.105586  0.200722  0.317201  0.260764  0.100945   \n",
            "1          1.0  0.171534 -0.098975  0.268425  0.338672  0.268353  0.060835   \n",
            "2          1.0  0.152317 -0.082973  0.287128  0.276014  0.189867  0.008714   \n",
            "3          1.0  0.224392  0.118985  0.329432  0.372088  0.361005  0.015501   \n",
            "4          1.0  0.087817 -0.068345  0.306967  0.330923  0.249144  0.006884   \n",
            "...        ...       ...       ...       ...       ...       ...       ...   \n",
            "7190       1.0 -0.554504 -0.337717  0.035533  0.034511  0.443451  0.093889   \n",
            "7191       1.0 -0.517273 -0.370574  0.030673  0.068097  0.402890  0.096628   \n",
            "7192       1.0 -0.582557 -0.343237  0.029468  0.064179  0.385596  0.114905   \n",
            "7193       1.0 -0.519497 -0.307553 -0.004922  0.072865  0.377131  0.086866   \n",
            "7194       1.0 -0.508833 -0.324106  0.062068  0.078211  0.397188  0.094596   \n",
            "\n",
            "      MFCCs_ 8  MFCCs_ 9  MFCCs_10  ...  MFCCs_17  MFCCs_18  MFCCs_19  \\\n",
            "0    -0.150063 -0.171128  0.124676  ... -0.108351 -0.077623 -0.009568   \n",
            "1    -0.222475 -0.207693  0.170883  ... -0.090974 -0.056510 -0.035303   \n",
            "2    -0.242234 -0.219153  0.232538  ... -0.050691 -0.023590 -0.066722   \n",
            "3    -0.194347 -0.098181  0.270375  ... -0.136009 -0.177037 -0.130498   \n",
            "4    -0.265423 -0.172700  0.266434  ... -0.048885 -0.053074 -0.088550   \n",
            "...        ...       ...       ...  ...       ...       ...       ...   \n",
            "7190 -0.100753  0.037087  0.081075  ...  0.069430  0.071001  0.021591   \n",
            "7191 -0.116460  0.063727  0.089034  ...  0.061127  0.068978  0.017745   \n",
            "7192 -0.103317  0.070370  0.081317  ...  0.082474  0.077771 -0.009688   \n",
            "7193 -0.115799  0.056979  0.089316  ...  0.051796  0.069073  0.017963   \n",
            "7194 -0.117672  0.058874  0.076180  ...  0.061455  0.072983 -0.003980   \n",
            "\n",
            "      MFCCs_20  MFCCs_21  MFCCs_22           Family      Genus  \\\n",
            "0     0.057684  0.118680  0.014038  Leptodactylidae  Adenomera   \n",
            "1     0.020140  0.082263  0.029056  Leptodactylidae  Adenomera   \n",
            "2    -0.025083  0.099108  0.077162  Leptodactylidae  Adenomera   \n",
            "3    -0.054766 -0.018691  0.023954  Leptodactylidae  Adenomera   \n",
            "4    -0.031346  0.108610  0.079244  Leptodactylidae  Adenomera   \n",
            "...        ...       ...       ...              ...        ...   \n",
            "7190  0.052449 -0.021860 -0.079860          Hylidae     Scinax   \n",
            "7191  0.046461 -0.015418 -0.101892          Hylidae     Scinax   \n",
            "7192  0.027834 -0.000531 -0.080425          Hylidae     Scinax   \n",
            "7193  0.041803 -0.027911 -0.096895          Hylidae     Scinax   \n",
            "7194  0.031560 -0.029355 -0.087910          Hylidae     Scinax   \n",
            "\n",
            "             Species  RecordID  \n",
            "0     AdenomeraAndre         1  \n",
            "1     AdenomeraAndre         1  \n",
            "2     AdenomeraAndre         1  \n",
            "3     AdenomeraAndre         1  \n",
            "4     AdenomeraAndre         1  \n",
            "...              ...       ...  \n",
            "7190     ScinaxRuber        60  \n",
            "7191     ScinaxRuber        60  \n",
            "7192     ScinaxRuber        60  \n",
            "7193     ScinaxRuber        60  \n",
            "7194     ScinaxRuber        60  \n",
            "\n",
            "[7195 rows x 26 columns]\n"
          ]
        }
      ],
      "source": [
        "data = pd.read_csv(r'../Data/Frogs_MFCCs.csv')\n",
        "x = data.iloc[:,:-4]\n",
        "y = data.loc[:,['Family','Genus','Species']]\n",
        "print(y.columns)\n",
        "# print(y)\n",
        "print(data)\n",
        "x_train, x_test, y_train, y_test = train_test_split(x,y,test_size=0.3,shuffle=True)\n",
        "# print(x_train)\n"
      ]
    },
    {
      "cell_type": "markdown",
      "id": "8659a064",
      "metadata": {
        "id": "8659a064"
      },
      "source": [
        "## Q.1.b."
      ]
    },
    {
      "cell_type": "code",
      "execution_count": null,
      "id": "9f3a7423",
      "metadata": {
        "id": "9f3a7423",
        "outputId": "d63e1256-7c37-491d-d269-f301a8f6d418"
      },
      "outputs": [
        {
          "name": "stdout",
          "output_type": "stream",
          "text": [
            "['Leptodactylidae' 'Leptodactylidae' 'Leptodactylidae' ... 'Hylidae'\n",
            " 'Hylidae' 'Hylidae']\n",
            "['Adenomera' 'Adenomera' 'Adenomera' ... 'Scinax' 'Scinax' 'Scinax']\n",
            "['AdenomeraAndre' 'AdenomeraAndre' 'AdenomeraAndre' ... 'ScinaxRuber'\n",
            " 'ScinaxRuber' 'ScinaxRuber']\n"
          ]
        }
      ],
      "source": [
        "print(data['Family'].values)\n",
        "print(data['Genus'].values)\n",
        "print(data['Species'].values)\n",
        "# It can be observed that each label is binary"
      ]
    },
    {
      "cell_type": "markdown",
      "id": "87fadf28",
      "metadata": {
        "id": "87fadf28"
      },
      "source": [
        "## Q.1.b.i."
      ]
    },
    {
      "cell_type": "markdown",
      "id": "3cd10b09",
      "metadata": {
        "id": "3cd10b09"
      },
      "source": [
        "Techniques used to measure a multi-class classifier:\n",
        "1. micro-averaging\n",
        "2. Macro averaging\n",
        "3. Hamming Loss:\n",
        "    - Fraction of labels that are incorrectly predicted (mis-labelling)\n",
        "4. Exact Match Ratio (subset accuracy):\n",
        "    - Most strict metric\n",
        "    - indicates percentage that have all labels classified correctly.\n",
        "    - ignores partially correct matches\n",
        "    - accuracy_score from scikit-learn"
      ]
    },
    {
      "cell_type": "markdown",
      "id": "8288c335",
      "metadata": {
        "id": "8288c335"
      },
      "source": [
        "Multi-label classification techniques:\n",
        "- One vs rest:\n",
        "    - build multiple independent classifiers and assign the class to the test data which has maximum confidence.\n",
        "    - ASSUMPTION : Labels are mutually exclusive i.e. Family, genus and Species are mutually exclusive (not correlated)\n",
        "    -"
      ]
    },
    {
      "cell_type": "markdown",
      "id": "fed348d2",
      "metadata": {
        "id": "fed348d2"
      },
      "source": [
        "## Q.1.b.ii."
      ]
    },
    {
      "cell_type": "code",
      "execution_count": null,
      "id": "8a30ad51",
      "metadata": {
        "id": "8a30ad51"
      },
      "outputs": [],
      "source": [
        "# #def hamming_score(y_true, y_pred):\n",
        "#     return (\n",
        "#         (y_true & y_pred).sum(axis=1) / (y_true | y_pred).sum(axis=1)\n",
        "#     ).mean()\n",
        "\n",
        "\n",
        "# hamming_score(y_true, y_pred)"
      ]
    },
    {
      "cell_type": "code",
      "execution_count": null,
      "id": "c5c72367",
      "metadata": {
        "id": "c5c72367",
        "outputId": "5747a03a-6611-44a2-f1e8-8ae5fd72cc34"
      },
      "outputs": [
        {
          "name": "stdout",
          "output_type": "stream",
          "text": [
            "Test accuracy for considering Family as target class is 0.9314497452524316\n",
            "\n",
            "Test accuracy for considering Genus as target class is 0.9059749884205651\n",
            "\n",
            "Test accuracy for considering Species as target class is 0.9143121815655396\n",
            "\n"
          ]
        }
      ],
      "source": [
        "SVC_pipeline = Pipeline([('clf', OneVsRestClassifier(SVC(gamma='auto'), n_jobs=-1)),])\n",
        "for c in y_train.columns:\n",
        "    SVC_pipeline.fit(x_train,y_train[c])\n",
        "    pred = SVC_pipeline.predict(x_test)\n",
        "    print(f'Test accuracy for considering {c} as target class is {accuracy_score(y_test[c],pred)}\\n')"
      ]
    },
    {
      "cell_type": "markdown",
      "id": "3ff59250",
      "metadata": {
        "id": "3ff59250"
      },
      "source": [
        "gamma and c paramaters of Radial Basis Function (RBF) kernel\n",
        "c parameter is the regularization(tuning) paramter of SVM\n",
        "gamma parameter defines the reach/influence of each training point. Large value of gamma means 'close' and small values of gamma mean 'far'. It can be seen as inverse of the radius of influence."
      ]
    },
    {
      "cell_type": "code",
      "execution_count": null,
      "id": "bcda59ce",
      "metadata": {
        "id": "bcda59ce",
        "outputId": "6ac9703f-3150-4edc-ab57-51be6291c885"
      },
      "outputs": [
        {
          "name": "stdout",
          "output_type": "stream",
          "text": [
            "The best parameters considering Family as the target label are: {'C': 10.0, 'gamma': 0.1} with a score of 0.99\n",
            "The best parameters considering Genus as the target label are: {'C': 100.0, 'gamma': 0.01} with a score of 0.99\n",
            "The best parameters considering Species as the target label are: {'C': 100.0, 'gamma': 0.01} with a score of 0.99\n"
          ]
        }
      ],
      "source": [
        "warnings.filterwarnings(action='ignore')\n",
        "scaler = StandardScaler()\n",
        "x_train = scaler.fit_transform(x_train)\n",
        "C_range = np.logspace(-2, 2, 5)\n",
        "gamma_range = np.logspace(-2, 2, 5)\n",
        "param_grid = dict(gamma=gamma_range, C=C_range)\n",
        "cv = KFold(n_splits=10)\n",
        "for c in y_train.columns:\n",
        "    grid = GridSearchCV(SVC(kernel='rbf',decision_function_shape='ovr'),param_grid=param_grid,cv=cv)\n",
        "    grid.fit(x_train,y_train[c])\n",
        "    print(f'The best parameters considering {c} as the target label are: %s with a score of %0.2f'%(grid.best_params_,grid.best_score_))"
      ]
    },
    {
      "cell_type": "markdown",
      "id": "7b85d730",
      "metadata": {
        "id": "7b85d730"
      },
      "source": [
        "## Q1.b.iii."
      ]
    },
    {
      "cell_type": "markdown",
      "source": [
        "# K-Fold Cross Validation"
      ],
      "metadata": {
        "id": "9rQF1KyrMQt6"
      },
      "id": "9rQF1KyrMQt6"
    },
    {
      "cell_type": "code",
      "execution_count": null,
      "id": "71216634",
      "metadata": {
        "id": "71216634",
        "outputId": "2805eb2b-1929-4956-ff92-7aa8e39db0a5"
      },
      "outputs": [
        {
          "name": "stdout",
          "output_type": "stream",
          "text": [
            "The best parameters considering Family as the target label are: {'C': 1.0} with a score of 0.94\n",
            "The best parameters considering Genus as the target label are: {'C': 100.0} with a score of 0.95\n",
            "The best parameters considering Species as the target label are: {'C': 100.0} with a score of 0.96\n"
          ]
        }
      ],
      "source": [
        "warnings.filterwarnings(action='ignore')\n",
        "# scaler = StandardScaler()\n",
        "# x_train = scaler.fit_transform(x_train)   #data has already been standardized\n",
        "C_range = np.logspace(-2, 2, 5)\n",
        "params = dict(C=C_range)\n",
        "cv = KFold(n_splits=10)\n",
        "for c in y_train.columns:\n",
        "  g = GridSearchCV(LinearSVC(penalty='l1',loss='squared_hinge',multi_class='ovr',dual=False),param_grid=params,cv=cv)\n",
        "  g.fit(x_train,y_train[c])\n",
        "  print(f'The best parameters considering {c} as the target label are: %s with a score of %0.2f'%(g.best_params_,g.best_score_))"
      ]
    },
    {
      "cell_type": "code",
      "execution_count": null,
      "id": "9e16f3db",
      "metadata": {
        "id": "9e16f3db",
        "outputId": "44cf0df8-3f50-4002-d8c2-8c1da1f10e10"
      },
      "outputs": [
        {
          "name": "stdout",
          "output_type": "stream",
          "text": [
            "The best parameters considering Family as the target label are: {'C': 100.0} with a score of 0.94\n",
            "The best parameters considering Genus as the target label are: {'C': 10.0} with a score of 0.92\n",
            "The best parameters considering Species as the target label are: {'C': 100.0} with a score of 0.90\n"
          ]
        }
      ],
      "source": [
        "oversample = SMOTE()\n",
        "warnings.filterwarnings(action='ignore')\n",
        "# scaler = StandardScaler()\n",
        "# x_train = scaler.fit_transform(x_train)   #data has already been standardized\n",
        "C_range = np.logspace(-2, 2, 5)\n",
        "params = dict(C=C_range)\n",
        "cv = KFold(n_splits=10)\n",
        "for c in y_train.columns:\n",
        "  x_train_resample, y_train_resample = oversample.fit_resample(x_train,y_train[c])\n",
        "  g_smote = GridSearchCV(LinearSVC(penalty='l1',loss='squared_hinge',multi_class='ovr',dual=False),param_grid=params,cv=cv)\n",
        "  g_smote.fit(x_train_resample,y_train_resample)\n",
        "  print(f'The best parameters considering {c} as the target label are: %s with a score of %0.2f'%(g_smote.best_params_,g_smote.best_score_))"
      ]
    },
    {
      "cell_type": "markdown",
      "id": "b201d049",
      "metadata": {
        "id": "b201d049"
      },
      "source": [
        "## Q.2.a."
      ]
    },
    {
      "cell_type": "code",
      "execution_count": null,
      "id": "90b8329c",
      "metadata": {
        "id": "90b8329c"
      },
      "outputs": [],
      "source": [
        "family={p:[] for p in range(1,51)}\n",
        "genus={p:[] for p in range(1,51)}\n",
        "species={p:[] for p in range(1,51)}\n",
        "random_int = random.randint(0,700)\n",
        "ham_loss = []\n",
        "ham_score = []\n",
        "\n"
      ]
    },
    {
      "cell_type": "code",
      "execution_count": null,
      "id": "53bfa6ad",
      "metadata": {
        "id": "53bfa6ad",
        "outputId": "b5c8be84-4883-4e29-e9fd-e97c0b6d0566"
      },
      "outputs": [
        {
          "name": "stdout",
          "output_type": "stream",
          "text": [
            "The standaed deviation of all the 50 Hamming distances is: 0.0\n",
            "The mean of all the 50 Hamming distances is: 0.0231642344220524\n"
          ]
        }
      ],
      "source": [
        "for c in range(1,51):\n",
        "    k_sil_dict = dict()\n",
        "    for k in range(2,20):\n",
        "        kmeans = KMeans(n_clusters=k,random_state=random_int).fit(x)\n",
        "        pred_labels = kmeans.labels_\n",
        "    #     print(pred_labels)\n",
        "        avg_sil_score = silhouette_score(x,pred_labels)\n",
        "        k_sil_dict.update({k:avg_sil_score})\n",
        "    # print(k_sil_dict)\n",
        "    best_k = max(k_sil_dict,key=k_sil_dict.get)\n",
        "    temp_df = x\n",
        "    kmeans_best = KMeans(n_clusters=best_k,random_state=random_int).fit(temp_df)\n",
        "    best_labels = kmeans_best.labels_\n",
        "    # print(best_labels)\n",
        "    cluster_df = pd.concat([temp_df,y,pd.DataFrame({'label':best_labels.tolist()})],axis=1)\n",
        "    cluster_df['label'].value_counts()\n",
        "\n",
        "    # print(temp_df.shape[1])\n",
        "    # print(len(temp_df.columns))\n",
        "#     print(cluster_df['label'].value_counts())\n",
        "    # # print(best_k)\n",
        "    for k in range(4):\n",
        "        filter_df = cluster_df[cluster_df['label']==k]\n",
        "    triplet = {k:[] for k in range(4)}\n",
        "    for k in range(4):\n",
        "        clus_val = cluster_df[cluster_df['label']==k]\n",
        "        triplet[k].append(clus_val['Family'].value_counts().index[0])\n",
        "        triplet[k].append(clus_val['Genus'].value_counts().index[0])\n",
        "        triplet[k].append(clus_val['Species'].value_counts().index[0])\n",
        "        family[c].append(clus_val['Family'].value_counts().index[0])\n",
        "        genus[c].append(clus_val['Family'].value_counts().index[0])\n",
        "        species[c].append(clus_val['Family'].value_counts().index[0])\n",
        "    cluster_df['Family_Pred'] = 'none'\n",
        "    cluster_df['Genus_Pred'] = 'none'\n",
        "    cluster_df['Species_Pred'] = 'none'\n",
        "    for k_dash in range(4):\n",
        "        cluster_df['Family_Pred'] = np.where(cluster_df['label']==k,triplet[k][0],cluster_df['Family_Pred'])\n",
        "        cluster_df['Genus_Pred'] = np.where(cluster_df['label']==k,triplet[k][0],cluster_df['Genus_Pred'])\n",
        "        cluster_df['Species_Pred'] = np.where(cluster_df['label']==k,triplet[k][0],cluster_df['Species_Pred'])\n",
        "    family_hl = hamming_loss(cluster_df['Family'],cluster_df['Family_Pred'])\n",
        "    genus_hl = hamming_loss(cluster_df['Genus'],cluster_df['Genus_Pred'])\n",
        "    species_hl = hamming_loss(cluster_df['Species'],cluster_df['Species_Pred'])\n",
        "    avg_hs = (family_hl+genus_hl+species_hl)/3\n",
        "    ham_loss.append(np.round(avg_hs,5))\n",
        "    ham_score.append(1-avg_hs)\n",
        "print(f'The standaed deviation of all the 50 Hamming distances is: {statistics.stdev(ham_score)}')\n",
        "print(f'The mean of all the 50 Hamming distances is: {statistics.mean(ham_score)}')\n",
        "# print(triplet)"
      ]
    },
    {
      "cell_type": "code",
      "execution_count": null,
      "id": "9ae46ba2",
      "metadata": {
        "id": "9ae46ba2"
      },
      "outputs": [],
      "source": [
        "final_list = list(zip(list(family.values()),list(genus.values()),list(species.values())))\n",
        "# print(final_list)\n",
        "\n",
        "final_triplet={}\n",
        "for i in range(0,50):\n",
        "    final_triplet.update({i:list(zip(final_list[i][0],final_list[i][1],final_list[i][2]))})\n",
        ""
      ]
    },
    {
      "cell_type": "code",
      "execution_count": null,
      "id": "5a6fa128",
      "metadata": {
        "id": "5a6fa128",
        "outputId": "8c76327b-3183-4193-b30d-711ff222a7ed"
      },
      "outputs": [
        {
          "name": "stdout",
          "output_type": "stream",
          "text": [
            "Interation = 1, best K = 4, Hamming Score = 0.0231642344220524, Best Triplet : [('Leptodactylidae', 'Leptodactylidae', 'Leptodactylidae'), ('Hylidae', 'Hylidae', 'Hylidae'), ('Hylidae', 'Hylidae', 'Hylidae'), ('Dendrobatidae', 'Dendrobatidae', 'Dendrobatidae'), ('Leptodactylidae', 'Leptodactylidae', 'Leptodactylidae'), ('Hylidae', 'Hylidae', 'Hylidae'), ('Hylidae', 'Hylidae', 'Hylidae'), ('Dendrobatidae', 'Dendrobatidae', 'Dendrobatidae')]\n",
            "\n",
            "Interation = 2, best K = 4, Hamming Score = 0.0231642344220524, Best Triplet : [('Leptodactylidae', 'Leptodactylidae', 'Leptodactylidae'), ('Hylidae', 'Hylidae', 'Hylidae'), ('Hylidae', 'Hylidae', 'Hylidae'), ('Dendrobatidae', 'Dendrobatidae', 'Dendrobatidae')]\n",
            "\n",
            "Interation = 3, best K = 4, Hamming Score = 0.0231642344220524, Best Triplet : [('Leptodactylidae', 'Leptodactylidae', 'Leptodactylidae'), ('Hylidae', 'Hylidae', 'Hylidae'), ('Hylidae', 'Hylidae', 'Hylidae'), ('Dendrobatidae', 'Dendrobatidae', 'Dendrobatidae')]\n",
            "\n",
            "Interation = 4, best K = 4, Hamming Score = 0.0231642344220524, Best Triplet : [('Leptodactylidae', 'Leptodactylidae', 'Leptodactylidae'), ('Hylidae', 'Hylidae', 'Hylidae'), ('Hylidae', 'Hylidae', 'Hylidae'), ('Dendrobatidae', 'Dendrobatidae', 'Dendrobatidae')]\n",
            "\n",
            "Interation = 5, best K = 4, Hamming Score = 0.0231642344220524, Best Triplet : [('Leptodactylidae', 'Leptodactylidae', 'Leptodactylidae'), ('Hylidae', 'Hylidae', 'Hylidae'), ('Hylidae', 'Hylidae', 'Hylidae'), ('Dendrobatidae', 'Dendrobatidae', 'Dendrobatidae')]\n",
            "\n",
            "Interation = 6, best K = 4, Hamming Score = 0.0231642344220524, Best Triplet : [('Leptodactylidae', 'Leptodactylidae', 'Leptodactylidae'), ('Hylidae', 'Hylidae', 'Hylidae'), ('Hylidae', 'Hylidae', 'Hylidae'), ('Dendrobatidae', 'Dendrobatidae', 'Dendrobatidae')]\n",
            "\n",
            "Interation = 7, best K = 4, Hamming Score = 0.0231642344220524, Best Triplet : [('Leptodactylidae', 'Leptodactylidae', 'Leptodactylidae'), ('Hylidae', 'Hylidae', 'Hylidae'), ('Hylidae', 'Hylidae', 'Hylidae'), ('Dendrobatidae', 'Dendrobatidae', 'Dendrobatidae')]\n",
            "\n",
            "Interation = 8, best K = 4, Hamming Score = 0.0231642344220524, Best Triplet : [('Leptodactylidae', 'Leptodactylidae', 'Leptodactylidae'), ('Hylidae', 'Hylidae', 'Hylidae'), ('Hylidae', 'Hylidae', 'Hylidae'), ('Dendrobatidae', 'Dendrobatidae', 'Dendrobatidae')]\n",
            "\n",
            "Interation = 9, best K = 4, Hamming Score = 0.0231642344220524, Best Triplet : [('Leptodactylidae', 'Leptodactylidae', 'Leptodactylidae'), ('Hylidae', 'Hylidae', 'Hylidae'), ('Hylidae', 'Hylidae', 'Hylidae'), ('Dendrobatidae', 'Dendrobatidae', 'Dendrobatidae')]\n",
            "\n",
            "Interation = 10, best K = 4, Hamming Score = 0.0231642344220524, Best Triplet : [('Leptodactylidae', 'Leptodactylidae', 'Leptodactylidae'), ('Hylidae', 'Hylidae', 'Hylidae'), ('Hylidae', 'Hylidae', 'Hylidae'), ('Dendrobatidae', 'Dendrobatidae', 'Dendrobatidae')]\n",
            "\n",
            "Interation = 11, best K = 4, Hamming Score = 0.0231642344220524, Best Triplet : [('Leptodactylidae', 'Leptodactylidae', 'Leptodactylidae'), ('Hylidae', 'Hylidae', 'Hylidae'), ('Hylidae', 'Hylidae', 'Hylidae'), ('Dendrobatidae', 'Dendrobatidae', 'Dendrobatidae')]\n",
            "\n",
            "Interation = 12, best K = 4, Hamming Score = 0.0231642344220524, Best Triplet : [('Leptodactylidae', 'Leptodactylidae', 'Leptodactylidae'), ('Hylidae', 'Hylidae', 'Hylidae'), ('Hylidae', 'Hylidae', 'Hylidae'), ('Dendrobatidae', 'Dendrobatidae', 'Dendrobatidae')]\n",
            "\n",
            "Interation = 13, best K = 4, Hamming Score = 0.0231642344220524, Best Triplet : [('Leptodactylidae', 'Leptodactylidae', 'Leptodactylidae'), ('Hylidae', 'Hylidae', 'Hylidae'), ('Hylidae', 'Hylidae', 'Hylidae'), ('Dendrobatidae', 'Dendrobatidae', 'Dendrobatidae')]\n",
            "\n",
            "Interation = 14, best K = 4, Hamming Score = 0.0231642344220524, Best Triplet : [('Leptodactylidae', 'Leptodactylidae', 'Leptodactylidae'), ('Hylidae', 'Hylidae', 'Hylidae'), ('Hylidae', 'Hylidae', 'Hylidae'), ('Dendrobatidae', 'Dendrobatidae', 'Dendrobatidae')]\n",
            "\n",
            "Interation = 15, best K = 4, Hamming Score = 0.0231642344220524, Best Triplet : [('Leptodactylidae', 'Leptodactylidae', 'Leptodactylidae'), ('Hylidae', 'Hylidae', 'Hylidae'), ('Hylidae', 'Hylidae', 'Hylidae'), ('Dendrobatidae', 'Dendrobatidae', 'Dendrobatidae')]\n",
            "\n",
            "Interation = 16, best K = 4, Hamming Score = 0.0231642344220524, Best Triplet : [('Leptodactylidae', 'Leptodactylidae', 'Leptodactylidae'), ('Hylidae', 'Hylidae', 'Hylidae'), ('Hylidae', 'Hylidae', 'Hylidae'), ('Dendrobatidae', 'Dendrobatidae', 'Dendrobatidae')]\n",
            "\n",
            "Interation = 17, best K = 4, Hamming Score = 0.0231642344220524, Best Triplet : [('Leptodactylidae', 'Leptodactylidae', 'Leptodactylidae'), ('Hylidae', 'Hylidae', 'Hylidae'), ('Hylidae', 'Hylidae', 'Hylidae'), ('Dendrobatidae', 'Dendrobatidae', 'Dendrobatidae')]\n",
            "\n",
            "Interation = 18, best K = 4, Hamming Score = 0.0231642344220524, Best Triplet : [('Leptodactylidae', 'Leptodactylidae', 'Leptodactylidae'), ('Hylidae', 'Hylidae', 'Hylidae'), ('Hylidae', 'Hylidae', 'Hylidae'), ('Dendrobatidae', 'Dendrobatidae', 'Dendrobatidae')]\n",
            "\n",
            "Interation = 19, best K = 4, Hamming Score = 0.0231642344220524, Best Triplet : [('Leptodactylidae', 'Leptodactylidae', 'Leptodactylidae'), ('Hylidae', 'Hylidae', 'Hylidae'), ('Hylidae', 'Hylidae', 'Hylidae'), ('Dendrobatidae', 'Dendrobatidae', 'Dendrobatidae')]\n",
            "\n",
            "Interation = 20, best K = 4, Hamming Score = 0.0231642344220524, Best Triplet : [('Leptodactylidae', 'Leptodactylidae', 'Leptodactylidae'), ('Hylidae', 'Hylidae', 'Hylidae'), ('Hylidae', 'Hylidae', 'Hylidae'), ('Dendrobatidae', 'Dendrobatidae', 'Dendrobatidae')]\n",
            "\n",
            "Interation = 21, best K = 4, Hamming Score = 0.0231642344220524, Best Triplet : [('Leptodactylidae', 'Leptodactylidae', 'Leptodactylidae'), ('Hylidae', 'Hylidae', 'Hylidae'), ('Hylidae', 'Hylidae', 'Hylidae'), ('Dendrobatidae', 'Dendrobatidae', 'Dendrobatidae')]\n",
            "\n",
            "Interation = 22, best K = 4, Hamming Score = 0.0231642344220524, Best Triplet : [('Leptodactylidae', 'Leptodactylidae', 'Leptodactylidae'), ('Hylidae', 'Hylidae', 'Hylidae'), ('Hylidae', 'Hylidae', 'Hylidae'), ('Dendrobatidae', 'Dendrobatidae', 'Dendrobatidae')]\n",
            "\n",
            "Interation = 23, best K = 4, Hamming Score = 0.0231642344220524, Best Triplet : [('Leptodactylidae', 'Leptodactylidae', 'Leptodactylidae'), ('Hylidae', 'Hylidae', 'Hylidae'), ('Hylidae', 'Hylidae', 'Hylidae'), ('Dendrobatidae', 'Dendrobatidae', 'Dendrobatidae')]\n",
            "\n",
            "Interation = 24, best K = 4, Hamming Score = 0.0231642344220524, Best Triplet : [('Leptodactylidae', 'Leptodactylidae', 'Leptodactylidae'), ('Hylidae', 'Hylidae', 'Hylidae'), ('Hylidae', 'Hylidae', 'Hylidae'), ('Dendrobatidae', 'Dendrobatidae', 'Dendrobatidae')]\n",
            "\n",
            "Interation = 25, best K = 4, Hamming Score = 0.0231642344220524, Best Triplet : [('Leptodactylidae', 'Leptodactylidae', 'Leptodactylidae'), ('Hylidae', 'Hylidae', 'Hylidae'), ('Hylidae', 'Hylidae', 'Hylidae'), ('Dendrobatidae', 'Dendrobatidae', 'Dendrobatidae')]\n",
            "\n",
            "Interation = 26, best K = 4, Hamming Score = 0.0231642344220524, Best Triplet : [('Leptodactylidae', 'Leptodactylidae', 'Leptodactylidae'), ('Hylidae', 'Hylidae', 'Hylidae'), ('Hylidae', 'Hylidae', 'Hylidae'), ('Dendrobatidae', 'Dendrobatidae', 'Dendrobatidae')]\n",
            "\n",
            "Interation = 27, best K = 4, Hamming Score = 0.0231642344220524, Best Triplet : [('Leptodactylidae', 'Leptodactylidae', 'Leptodactylidae'), ('Hylidae', 'Hylidae', 'Hylidae'), ('Hylidae', 'Hylidae', 'Hylidae'), ('Dendrobatidae', 'Dendrobatidae', 'Dendrobatidae')]\n",
            "\n",
            "Interation = 28, best K = 4, Hamming Score = 0.0231642344220524, Best Triplet : [('Leptodactylidae', 'Leptodactylidae', 'Leptodactylidae'), ('Hylidae', 'Hylidae', 'Hylidae'), ('Hylidae', 'Hylidae', 'Hylidae'), ('Dendrobatidae', 'Dendrobatidae', 'Dendrobatidae')]\n",
            "\n",
            "Interation = 29, best K = 4, Hamming Score = 0.0231642344220524, Best Triplet : [('Leptodactylidae', 'Leptodactylidae', 'Leptodactylidae'), ('Hylidae', 'Hylidae', 'Hylidae'), ('Hylidae', 'Hylidae', 'Hylidae'), ('Dendrobatidae', 'Dendrobatidae', 'Dendrobatidae')]\n",
            "\n",
            "Interation = 30, best K = 4, Hamming Score = 0.0231642344220524, Best Triplet : [('Leptodactylidae', 'Leptodactylidae', 'Leptodactylidae'), ('Hylidae', 'Hylidae', 'Hylidae'), ('Hylidae', 'Hylidae', 'Hylidae'), ('Dendrobatidae', 'Dendrobatidae', 'Dendrobatidae')]\n",
            "\n",
            "Interation = 31, best K = 4, Hamming Score = 0.0231642344220524, Best Triplet : [('Leptodactylidae', 'Leptodactylidae', 'Leptodactylidae'), ('Hylidae', 'Hylidae', 'Hylidae'), ('Hylidae', 'Hylidae', 'Hylidae'), ('Dendrobatidae', 'Dendrobatidae', 'Dendrobatidae')]\n",
            "\n",
            "Interation = 32, best K = 4, Hamming Score = 0.0231642344220524, Best Triplet : [('Leptodactylidae', 'Leptodactylidae', 'Leptodactylidae'), ('Hylidae', 'Hylidae', 'Hylidae'), ('Hylidae', 'Hylidae', 'Hylidae'), ('Dendrobatidae', 'Dendrobatidae', 'Dendrobatidae')]\n",
            "\n",
            "Interation = 33, best K = 4, Hamming Score = 0.0231642344220524, Best Triplet : [('Leptodactylidae', 'Leptodactylidae', 'Leptodactylidae'), ('Hylidae', 'Hylidae', 'Hylidae'), ('Hylidae', 'Hylidae', 'Hylidae'), ('Dendrobatidae', 'Dendrobatidae', 'Dendrobatidae')]\n",
            "\n",
            "Interation = 34, best K = 4, Hamming Score = 0.0231642344220524, Best Triplet : [('Leptodactylidae', 'Leptodactylidae', 'Leptodactylidae'), ('Hylidae', 'Hylidae', 'Hylidae'), ('Hylidae', 'Hylidae', 'Hylidae'), ('Dendrobatidae', 'Dendrobatidae', 'Dendrobatidae')]\n",
            "\n",
            "Interation = 35, best K = 4, Hamming Score = 0.0231642344220524, Best Triplet : [('Leptodactylidae', 'Leptodactylidae', 'Leptodactylidae'), ('Hylidae', 'Hylidae', 'Hylidae'), ('Hylidae', 'Hylidae', 'Hylidae'), ('Dendrobatidae', 'Dendrobatidae', 'Dendrobatidae')]\n",
            "\n",
            "Interation = 36, best K = 4, Hamming Score = 0.0231642344220524, Best Triplet : [('Leptodactylidae', 'Leptodactylidae', 'Leptodactylidae'), ('Hylidae', 'Hylidae', 'Hylidae'), ('Hylidae', 'Hylidae', 'Hylidae'), ('Dendrobatidae', 'Dendrobatidae', 'Dendrobatidae')]\n",
            "\n",
            "Interation = 37, best K = 4, Hamming Score = 0.0231642344220524, Best Triplet : [('Leptodactylidae', 'Leptodactylidae', 'Leptodactylidae'), ('Hylidae', 'Hylidae', 'Hylidae'), ('Hylidae', 'Hylidae', 'Hylidae'), ('Dendrobatidae', 'Dendrobatidae', 'Dendrobatidae')]\n",
            "\n",
            "Interation = 38, best K = 4, Hamming Score = 0.0231642344220524, Best Triplet : [('Leptodactylidae', 'Leptodactylidae', 'Leptodactylidae'), ('Hylidae', 'Hylidae', 'Hylidae'), ('Hylidae', 'Hylidae', 'Hylidae'), ('Dendrobatidae', 'Dendrobatidae', 'Dendrobatidae')]\n",
            "\n",
            "Interation = 39, best K = 4, Hamming Score = 0.0231642344220524, Best Triplet : [('Leptodactylidae', 'Leptodactylidae', 'Leptodactylidae'), ('Hylidae', 'Hylidae', 'Hylidae'), ('Hylidae', 'Hylidae', 'Hylidae'), ('Dendrobatidae', 'Dendrobatidae', 'Dendrobatidae')]\n",
            "\n",
            "Interation = 40, best K = 4, Hamming Score = 0.0231642344220524, Best Triplet : [('Leptodactylidae', 'Leptodactylidae', 'Leptodactylidae'), ('Hylidae', 'Hylidae', 'Hylidae'), ('Hylidae', 'Hylidae', 'Hylidae'), ('Dendrobatidae', 'Dendrobatidae', 'Dendrobatidae')]\n",
            "\n",
            "Interation = 41, best K = 4, Hamming Score = 0.0231642344220524, Best Triplet : [('Leptodactylidae', 'Leptodactylidae', 'Leptodactylidae'), ('Hylidae', 'Hylidae', 'Hylidae'), ('Hylidae', 'Hylidae', 'Hylidae'), ('Dendrobatidae', 'Dendrobatidae', 'Dendrobatidae')]\n",
            "\n",
            "Interation = 42, best K = 4, Hamming Score = 0.0231642344220524, Best Triplet : [('Leptodactylidae', 'Leptodactylidae', 'Leptodactylidae'), ('Hylidae', 'Hylidae', 'Hylidae'), ('Hylidae', 'Hylidae', 'Hylidae'), ('Dendrobatidae', 'Dendrobatidae', 'Dendrobatidae')]\n",
            "\n",
            "Interation = 43, best K = 4, Hamming Score = 0.0231642344220524, Best Triplet : [('Leptodactylidae', 'Leptodactylidae', 'Leptodactylidae'), ('Hylidae', 'Hylidae', 'Hylidae'), ('Hylidae', 'Hylidae', 'Hylidae'), ('Dendrobatidae', 'Dendrobatidae', 'Dendrobatidae')]\n",
            "\n",
            "Interation = 44, best K = 4, Hamming Score = 0.0231642344220524, Best Triplet : [('Leptodactylidae', 'Leptodactylidae', 'Leptodactylidae'), ('Hylidae', 'Hylidae', 'Hylidae'), ('Hylidae', 'Hylidae', 'Hylidae'), ('Dendrobatidae', 'Dendrobatidae', 'Dendrobatidae')]\n",
            "\n",
            "Interation = 45, best K = 4, Hamming Score = 0.0231642344220524, Best Triplet : [('Leptodactylidae', 'Leptodactylidae', 'Leptodactylidae'), ('Hylidae', 'Hylidae', 'Hylidae'), ('Hylidae', 'Hylidae', 'Hylidae'), ('Dendrobatidae', 'Dendrobatidae', 'Dendrobatidae')]\n",
            "\n",
            "Interation = 46, best K = 4, Hamming Score = 0.0231642344220524, Best Triplet : [('Leptodactylidae', 'Leptodactylidae', 'Leptodactylidae'), ('Hylidae', 'Hylidae', 'Hylidae'), ('Hylidae', 'Hylidae', 'Hylidae'), ('Dendrobatidae', 'Dendrobatidae', 'Dendrobatidae')]\n",
            "\n",
            "Interation = 47, best K = 4, Hamming Score = 0.0231642344220524, Best Triplet : [('Leptodactylidae', 'Leptodactylidae', 'Leptodactylidae'), ('Hylidae', 'Hylidae', 'Hylidae'), ('Hylidae', 'Hylidae', 'Hylidae'), ('Dendrobatidae', 'Dendrobatidae', 'Dendrobatidae')]\n",
            "\n",
            "Interation = 48, best K = 4, Hamming Score = 0.0231642344220524, Best Triplet : [('Leptodactylidae', 'Leptodactylidae', 'Leptodactylidae'), ('Hylidae', 'Hylidae', 'Hylidae'), ('Hylidae', 'Hylidae', 'Hylidae'), ('Dendrobatidae', 'Dendrobatidae', 'Dendrobatidae')]\n",
            "\n",
            "Interation = 49, best K = 4, Hamming Score = 0.0231642344220524, Best Triplet : [('Leptodactylidae', 'Leptodactylidae', 'Leptodactylidae'), ('Hylidae', 'Hylidae', 'Hylidae'), ('Hylidae', 'Hylidae', 'Hylidae'), ('Dendrobatidae', 'Dendrobatidae', 'Dendrobatidae')]\n",
            "\n",
            "Interation = 50, best K = 4, Hamming Score = 0.0231642344220524, Best Triplet : [('Leptodactylidae', 'Leptodactylidae', 'Leptodactylidae'), ('Hylidae', 'Hylidae', 'Hylidae'), ('Hylidae', 'Hylidae', 'Hylidae'), ('Dendrobatidae', 'Dendrobatidae', 'Dendrobatidae')]\n",
            "\n"
          ]
        }
      ],
      "source": [
        "for i in range(0,50):\n",
        "    print(f'Interation = {i+1}, best K = {best_k}, Hamming Score = {ham_score[i]}, Best Triplet : {final_triplet[i]}\\n')"
      ]
    }
  ],
  "metadata": {
    "kernelspec": {
      "display_name": "Python 3",
      "language": "python",
      "name": "python3"
    },
    "language_info": {
      "codemirror_mode": {
        "name": "ipython",
        "version": 3
      },
      "file_extension": ".py",
      "mimetype": "text/x-python",
      "name": "python",
      "nbconvert_exporter": "python",
      "pygments_lexer": "ipython3",
      "version": "3.8.8"
    },
    "colab": {
      "provenance": [],
      "include_colab_link": true
    }
  },
  "nbformat": 4,
  "nbformat_minor": 5
}